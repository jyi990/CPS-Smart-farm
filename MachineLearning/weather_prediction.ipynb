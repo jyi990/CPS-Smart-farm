{
  "nbformat": 4,
  "nbformat_minor": 0,
  "metadata": {
    "colab": {
      "provenance": []
    },
    "kernelspec": {
      "name": "python3",
      "display_name": "Python 3"
    },
    "language_info": {
      "name": "python"
    }
  },
  "cells": [
    {
      "cell_type": "markdown",
      "source": [
        "# 환경 최적화"
      ],
      "metadata": {
        "id": "XyKfUF8RYVLG"
      }
    },
    {
      "cell_type": "code",
      "source": [
        "'''!sudo apt-get install -y fonts-nanum\n",
        "!sudo fc-cache -fv\n",
        "!rm ~/.cache/matplotlib -rf'''"
      ],
      "metadata": {
        "colab": {
          "base_uri": "https://localhost:8080/"
        },
        "id": "231ed9RyrP-Q",
        "outputId": "3767b6f9-2c3f-4a42-96f7-9852194e4bd0"
      },
      "execution_count": null,
      "outputs": [
        {
          "output_type": "stream",
          "name": "stdout",
          "text": [
            "Reading package lists... Done\n",
            "Building dependency tree       \n",
            "Reading state information... Done\n",
            "The following package was automatically installed and is no longer required:\n",
            "  libnvidia-common-460\n",
            "Use 'sudo apt autoremove' to remove it.\n",
            "The following NEW packages will be installed:\n",
            "  fonts-nanum\n",
            "0 upgraded, 1 newly installed, 0 to remove and 20 not upgraded.\n",
            "Need to get 9,604 kB of archives.\n",
            "After this operation, 29.5 MB of additional disk space will be used.\n",
            "Get:1 http://archive.ubuntu.com/ubuntu bionic/universe amd64 fonts-nanum all 20170925-1 [9,604 kB]\n",
            "Fetched 9,604 kB in 1s (7,390 kB/s)\n",
            "debconf: unable to initialize frontend: Dialog\n",
            "debconf: (No usable dialog-like program is installed, so the dialog based frontend cannot be used. at /usr/share/perl5/Debconf/FrontEnd/Dialog.pm line 76, <> line 1.)\n",
            "debconf: falling back to frontend: Readline\n",
            "debconf: unable to initialize frontend: Readline\n",
            "debconf: (This frontend requires a controlling tty.)\n",
            "debconf: falling back to frontend: Teletype\n",
            "dpkg-preconfigure: unable to re-open stdin: \n",
            "Selecting previously unselected package fonts-nanum.\n",
            "(Reading database ... 124013 files and directories currently installed.)\n",
            "Preparing to unpack .../fonts-nanum_20170925-1_all.deb ...\n",
            "Unpacking fonts-nanum (20170925-1) ...\n",
            "Setting up fonts-nanum (20170925-1) ...\n",
            "Processing triggers for fontconfig (2.12.6-0ubuntu2) ...\n",
            "/usr/share/fonts: caching, new cache contents: 0 fonts, 1 dirs\n",
            "/usr/share/fonts/truetype: caching, new cache contents: 0 fonts, 3 dirs\n",
            "/usr/share/fonts/truetype/humor-sans: caching, new cache contents: 1 fonts, 0 dirs\n",
            "/usr/share/fonts/truetype/liberation: caching, new cache contents: 16 fonts, 0 dirs\n",
            "/usr/share/fonts/truetype/nanum: caching, new cache contents: 10 fonts, 0 dirs\n",
            "/usr/local/share/fonts: caching, new cache contents: 0 fonts, 0 dirs\n",
            "/root/.local/share/fonts: skipping, no such directory\n",
            "/root/.fonts: skipping, no such directory\n",
            "/var/cache/fontconfig: cleaning cache directory\n",
            "/root/.cache/fontconfig: not cleaning non-existent cache directory\n",
            "/root/.fontconfig: not cleaning non-existent cache directory\n",
            "fc-cache: succeeded\n"
          ]
        }
      ]
    },
    {
      "cell_type": "code",
      "source": [
        "'''import matplotlib.font_manager as fm\n",
        "\n",
        "# 설치된 폰트 출력\n",
        "font_list = [font.name for font in fm.fontManager.ttflist]\n",
        "font_list'''"
      ],
      "metadata": {
        "id": "tpt7J582rLHl"
      },
      "execution_count": null,
      "outputs": []
    },
    {
      "cell_type": "markdown",
      "metadata": {
        "id": "3a813305"
      },
      "source": [
        "## Machine Learning Model 만들기"
      ]
    },
    {
      "cell_type": "markdown",
      "metadata": {
        "id": "da6c1626"
      },
      "source": [
        "2월 부터 7월 까지 0시 부터 23시 까지  \n",
        "아무 시간대나 입력하면 예측 값 출력해주는 모델 생성  \n",
        "매일 자정에 모델 업데이트"
      ]
    },
    {
      "cell_type": "markdown",
      "source": [
        "처음부터 끝까지 사용해서 학습  \n",
        "바로 직전 조건을 토대로 다음 결과 예측  \n",
        "현재 + offset 시간  \n",
        "바로 다음 또는 특정 시점의 환경 예측  \n",
        "지금까지의 데이터를 토대로 수학 시점까지의 데이터 만들어 내서 만든 데이터 기반으로 수확량 예측  \n",
        "지금까지의 기조가 유지되면 얼만큼의 수확량이 나오는지 계산  \n",
        "\n",
        "\n",
        "** 특정 시점의 데이터 예측 후 부족한 점(습도, 온도)을 파악하여 팬, 급수펌프 가동"
      ],
      "metadata": {
        "id": "bsYTcDwsoi8n"
      }
    },
    {
      "cell_type": "markdown",
      "metadata": {
        "id": "f847fe38"
      },
      "source": [
        "* Linear Regression\n",
        "* Polynomial Regression\n",
        "* Ridge Regression\n",
        "* Lasso Regression\n",
        "* PCR (Principal Component Regression)\n",
        "* Elastic Net Regression\n",
        "* Regression tree"
      ]
    },
    {
      "cell_type": "markdown",
      "source": [
        "### 머신러닝 패키지 호출"
      ],
      "metadata": {
        "id": "WT4n5Ka3ON8M"
      }
    },
    {
      "cell_type": "code",
      "execution_count": null,
      "metadata": {
        "id": "MnUSVVpJYTpP"
      },
      "outputs": [],
      "source": [
        "import numpy as np\n",
        "import pandas as pd\n",
        "import matplotlib.pyplot as plt\n",
        "import seaborn as sns\n",
        "import warnings\n",
        "\n",
        "import sklearn\n",
        "\n",
        "PATH = '/content/drive/MyDrive/[2022]GraduationProject/'\n",
        "\n",
        "warnings.filterwarnings(action='ignore')\n",
        "\n",
        "# 한글 깨짐 방지\n",
        "\n",
        "# unicode minus를 사용하지 않기 위한 설정 (minus 깨짐현상 방지)\n",
        "plt.rcParams['axes.unicode_minus'] = False\n",
        "plt.rc('font', family='NanumBarunGothic') "
      ]
    },
    {
      "cell_type": "code",
      "source": [
        "import sklearn\n",
        "from sklearn.linear_model import LinearRegression\n",
        "from sklearn.preprocessing import PolynomialFeatures\n",
        "from sklearn.pipeline import Pipeline\n",
        "from sklearn.model_selection import train_test_split\n",
        "\n",
        "from datetime import datetime"
      ],
      "metadata": {
        "id": "LngH7HKROR7F"
      },
      "execution_count": null,
      "outputs": []
    },
    {
      "cell_type": "code",
      "source": [
        "file_name = 'weather.csv'\n",
        "url = PATH + file_name"
      ],
      "metadata": {
        "id": "FQfd1hXLrjye"
      },
      "execution_count": null,
      "outputs": []
    },
    {
      "cell_type": "code",
      "source": [
        "origin_data = pd.read_csv(url)\n",
        "origin_data.info()"
      ],
      "metadata": {
        "colab": {
          "base_uri": "https://localhost:8080/"
        },
        "id": "_sRQznDaeNLW",
        "outputId": "2252a011-6138-4d2b-ed05-a818ae0c30a0"
      },
      "execution_count": null,
      "outputs": [
        {
          "output_type": "stream",
          "name": "stdout",
          "text": [
            "<class 'pandas.core.frame.DataFrame'>\n",
            "RangeIndex: 6006 entries, 0 to 6005\n",
            "Data columns (total 12 columns):\n",
            " #   Column    Non-Null Count  Dtype  \n",
            "---  ------    --------------  -----  \n",
            " 0   수집일       6006 non-null   object \n",
            " 1   외부온도      5995 non-null   float64\n",
            " 2   외부 일사량    5745 non-null   float64\n",
            " 3   외부풍속      5647 non-null   float64\n",
            " 4   강우감지      5995 non-null   float64\n",
            " 5   내부온도      5995 non-null   float64\n",
            " 6   내부습도      6002 non-null   float64\n",
            " 7   내부CO2     3555 non-null   float64\n",
            " 8   지온        5251 non-null   float64\n",
            " 9   (양액)지습    6003 non-null   float64\n",
            " 10  차광커튼작동상태  6006 non-null   int64  \n",
            " 11  측창        6006 non-null   int64  \n",
            "dtypes: float64(9), int64(2), object(1)\n",
            "memory usage: 563.2+ KB\n"
          ]
        }
      ]
    },
    {
      "cell_type": "code",
      "source": [
        "timing_split = origin_data['수집일'].str.split(' ')\n",
        "date = timing_split.str.get(0)\n",
        "time = timing_split.str.get(1)\n",
        "\n",
        "date_split = date.str.split('-')\n",
        "hour_split = time.str.split(':')\n",
        "hours = hour_split.str.get(0)\n",
        "for i in range(len(hours)):\n",
        "    if len(hours[i]) == 1:\n",
        "        hours[i] = '0' + hours[i]"
      ],
      "metadata": {
        "id": "XtmI1aVKr934"
      },
      "execution_count": null,
      "outputs": []
    },
    {
      "cell_type": "code",
      "source": [
        "origin_data.insert(1, 'year', date_split.str.get(0))\n",
        "origin_data.insert(2, 'month', date_split.str.get(1))\n",
        "origin_data.insert(3, 'day', date_split.str.get(2))\n",
        "origin_data.insert(4, 'hour', hours)\n",
        "origin_data.insert(2, 'month_day', origin_data['month'] + \" \" + origin_data['day'])\n",
        "\n",
        "origin_data['수집일'] = pd.to_datetime(origin_data['수집일'])\n",
        "\n",
        "flag = origin_data['수집일'][0]\n",
        "tempDays = (origin_data['수집일'] - flag) * 24\n",
        "Days = tempDays.astype(str)\n",
        "days = Days.str.split(' ').str.get(0)\n",
        "\n",
        "origin_data.insert(6, 'time', days)\n",
        "\n",
        "origin_data['time'] = origin_data['time'].astype(int)"
      ],
      "metadata": {
        "id": "-w0dUroNpaSg"
      },
      "execution_count": null,
      "outputs": []
    },
    {
      "cell_type": "code",
      "source": [
        "origin_data"
      ],
      "metadata": {
        "colab": {
          "base_uri": "https://localhost:8080/",
          "height": 956
        },
        "id": "R_y6IYFU2EEL",
        "outputId": "87e65b43-41e9-417a-e9d7-ba238555117c"
      },
      "execution_count": null,
      "outputs": [
        {
          "output_type": "execute_result",
          "data": {
            "text/plain": [
              "                     수집일  year month_day month day hour  time  외부온도  외부 일사량  \\\n",
              "0    2020-09-10 00:00:00  2020     09 10    09  10   00     0  20.0     2.0   \n",
              "1    2020-09-10 01:00:00  2020     09 10    09  10   01     1  20.0     2.0   \n",
              "2    2020-09-10 02:00:00  2020     09 10    09  10   02     2  20.0     2.0   \n",
              "3    2020-09-10 03:00:00  2020     09 10    09  10   03     3  20.0     NaN   \n",
              "4    2020-09-10 04:00:00  2020     09 10    09  10   04     4  20.0     NaN   \n",
              "...                  ...   ...       ...   ...  ..  ...   ...   ...     ...   \n",
              "6001 2021-06-28 11:00:00  2021     06 28    06  28   11  6995  28.0   827.0   \n",
              "6002 2021-06-28 12:00:00  2021     06 28    06  28   12  6996  27.0   566.0   \n",
              "6003 2021-06-28 13:00:00  2021     06 28    06  28   13  6997  29.0   765.0   \n",
              "6004 2021-06-28 14:00:00  2021     06 28    06  28   14  6998  26.0   452.0   \n",
              "6005 2021-06-28 15:00:00  2021     06 28    06  28   15  6999  24.0    97.0   \n",
              "\n",
              "      외부풍속    강우감지  내부온도  내부습도  내부CO2    지온  (양액)지습  차광커튼작동상태  측창  \n",
              "0      NaN     0.0  21.0  99.0    NaN  25.0    44.0         0   0  \n",
              "1      0.0     0.0  21.0  99.0    NaN  24.0    41.0         0   0  \n",
              "2      NaN     0.0  20.0  99.0    NaN  24.0    43.0         0   0  \n",
              "3      NaN     0.0  21.0  99.0    NaN  23.0    47.0         0   0  \n",
              "4      NaN     0.0  21.0  99.0    NaN  23.0    48.0         0   0  \n",
              "...    ...     ...   ...   ...    ...   ...     ...       ...  ..  \n",
              "6001   0.0  1833.0  24.0  82.0    0.0  34.0    23.0        70   0  \n",
              "6002   1.0  3667.0  23.0  84.0    0.0  36.0    23.0        70   0  \n",
              "6003   1.0     0.0  25.0  81.0    0.0  37.0    22.0        70   0  \n",
              "6004   1.0  5167.0  21.0  85.0    0.0  38.0    23.0        70   0  \n",
              "6005   0.0  8919.0  18.0  90.0    0.0  36.0    24.0        70   0  \n",
              "\n",
              "[6006 rows x 18 columns]"
            ],
            "text/html": [
              "\n",
              "  <div id=\"df-181edad1-6364-4693-8a90-784d76d385e1\">\n",
              "    <div class=\"colab-df-container\">\n",
              "      <div>\n",
              "<style scoped>\n",
              "    .dataframe tbody tr th:only-of-type {\n",
              "        vertical-align: middle;\n",
              "    }\n",
              "\n",
              "    .dataframe tbody tr th {\n",
              "        vertical-align: top;\n",
              "    }\n",
              "\n",
              "    .dataframe thead th {\n",
              "        text-align: right;\n",
              "    }\n",
              "</style>\n",
              "<table border=\"1\" class=\"dataframe\">\n",
              "  <thead>\n",
              "    <tr style=\"text-align: right;\">\n",
              "      <th></th>\n",
              "      <th>수집일</th>\n",
              "      <th>year</th>\n",
              "      <th>month_day</th>\n",
              "      <th>month</th>\n",
              "      <th>day</th>\n",
              "      <th>hour</th>\n",
              "      <th>time</th>\n",
              "      <th>외부온도</th>\n",
              "      <th>외부 일사량</th>\n",
              "      <th>외부풍속</th>\n",
              "      <th>강우감지</th>\n",
              "      <th>내부온도</th>\n",
              "      <th>내부습도</th>\n",
              "      <th>내부CO2</th>\n",
              "      <th>지온</th>\n",
              "      <th>(양액)지습</th>\n",
              "      <th>차광커튼작동상태</th>\n",
              "      <th>측창</th>\n",
              "    </tr>\n",
              "  </thead>\n",
              "  <tbody>\n",
              "    <tr>\n",
              "      <th>0</th>\n",
              "      <td>2020-09-10 00:00:00</td>\n",
              "      <td>2020</td>\n",
              "      <td>09 10</td>\n",
              "      <td>09</td>\n",
              "      <td>10</td>\n",
              "      <td>00</td>\n",
              "      <td>0</td>\n",
              "      <td>20.0</td>\n",
              "      <td>2.0</td>\n",
              "      <td>NaN</td>\n",
              "      <td>0.0</td>\n",
              "      <td>21.0</td>\n",
              "      <td>99.0</td>\n",
              "      <td>NaN</td>\n",
              "      <td>25.0</td>\n",
              "      <td>44.0</td>\n",
              "      <td>0</td>\n",
              "      <td>0</td>\n",
              "    </tr>\n",
              "    <tr>\n",
              "      <th>1</th>\n",
              "      <td>2020-09-10 01:00:00</td>\n",
              "      <td>2020</td>\n",
              "      <td>09 10</td>\n",
              "      <td>09</td>\n",
              "      <td>10</td>\n",
              "      <td>01</td>\n",
              "      <td>1</td>\n",
              "      <td>20.0</td>\n",
              "      <td>2.0</td>\n",
              "      <td>0.0</td>\n",
              "      <td>0.0</td>\n",
              "      <td>21.0</td>\n",
              "      <td>99.0</td>\n",
              "      <td>NaN</td>\n",
              "      <td>24.0</td>\n",
              "      <td>41.0</td>\n",
              "      <td>0</td>\n",
              "      <td>0</td>\n",
              "    </tr>\n",
              "    <tr>\n",
              "      <th>2</th>\n",
              "      <td>2020-09-10 02:00:00</td>\n",
              "      <td>2020</td>\n",
              "      <td>09 10</td>\n",
              "      <td>09</td>\n",
              "      <td>10</td>\n",
              "      <td>02</td>\n",
              "      <td>2</td>\n",
              "      <td>20.0</td>\n",
              "      <td>2.0</td>\n",
              "      <td>NaN</td>\n",
              "      <td>0.0</td>\n",
              "      <td>20.0</td>\n",
              "      <td>99.0</td>\n",
              "      <td>NaN</td>\n",
              "      <td>24.0</td>\n",
              "      <td>43.0</td>\n",
              "      <td>0</td>\n",
              "      <td>0</td>\n",
              "    </tr>\n",
              "    <tr>\n",
              "      <th>3</th>\n",
              "      <td>2020-09-10 03:00:00</td>\n",
              "      <td>2020</td>\n",
              "      <td>09 10</td>\n",
              "      <td>09</td>\n",
              "      <td>10</td>\n",
              "      <td>03</td>\n",
              "      <td>3</td>\n",
              "      <td>20.0</td>\n",
              "      <td>NaN</td>\n",
              "      <td>NaN</td>\n",
              "      <td>0.0</td>\n",
              "      <td>21.0</td>\n",
              "      <td>99.0</td>\n",
              "      <td>NaN</td>\n",
              "      <td>23.0</td>\n",
              "      <td>47.0</td>\n",
              "      <td>0</td>\n",
              "      <td>0</td>\n",
              "    </tr>\n",
              "    <tr>\n",
              "      <th>4</th>\n",
              "      <td>2020-09-10 04:00:00</td>\n",
              "      <td>2020</td>\n",
              "      <td>09 10</td>\n",
              "      <td>09</td>\n",
              "      <td>10</td>\n",
              "      <td>04</td>\n",
              "      <td>4</td>\n",
              "      <td>20.0</td>\n",
              "      <td>NaN</td>\n",
              "      <td>NaN</td>\n",
              "      <td>0.0</td>\n",
              "      <td>21.0</td>\n",
              "      <td>99.0</td>\n",
              "      <td>NaN</td>\n",
              "      <td>23.0</td>\n",
              "      <td>48.0</td>\n",
              "      <td>0</td>\n",
              "      <td>0</td>\n",
              "    </tr>\n",
              "    <tr>\n",
              "      <th>...</th>\n",
              "      <td>...</td>\n",
              "      <td>...</td>\n",
              "      <td>...</td>\n",
              "      <td>...</td>\n",
              "      <td>...</td>\n",
              "      <td>...</td>\n",
              "      <td>...</td>\n",
              "      <td>...</td>\n",
              "      <td>...</td>\n",
              "      <td>...</td>\n",
              "      <td>...</td>\n",
              "      <td>...</td>\n",
              "      <td>...</td>\n",
              "      <td>...</td>\n",
              "      <td>...</td>\n",
              "      <td>...</td>\n",
              "      <td>...</td>\n",
              "      <td>...</td>\n",
              "    </tr>\n",
              "    <tr>\n",
              "      <th>6001</th>\n",
              "      <td>2021-06-28 11:00:00</td>\n",
              "      <td>2021</td>\n",
              "      <td>06 28</td>\n",
              "      <td>06</td>\n",
              "      <td>28</td>\n",
              "      <td>11</td>\n",
              "      <td>6995</td>\n",
              "      <td>28.0</td>\n",
              "      <td>827.0</td>\n",
              "      <td>0.0</td>\n",
              "      <td>1833.0</td>\n",
              "      <td>24.0</td>\n",
              "      <td>82.0</td>\n",
              "      <td>0.0</td>\n",
              "      <td>34.0</td>\n",
              "      <td>23.0</td>\n",
              "      <td>70</td>\n",
              "      <td>0</td>\n",
              "    </tr>\n",
              "    <tr>\n",
              "      <th>6002</th>\n",
              "      <td>2021-06-28 12:00:00</td>\n",
              "      <td>2021</td>\n",
              "      <td>06 28</td>\n",
              "      <td>06</td>\n",
              "      <td>28</td>\n",
              "      <td>12</td>\n",
              "      <td>6996</td>\n",
              "      <td>27.0</td>\n",
              "      <td>566.0</td>\n",
              "      <td>1.0</td>\n",
              "      <td>3667.0</td>\n",
              "      <td>23.0</td>\n",
              "      <td>84.0</td>\n",
              "      <td>0.0</td>\n",
              "      <td>36.0</td>\n",
              "      <td>23.0</td>\n",
              "      <td>70</td>\n",
              "      <td>0</td>\n",
              "    </tr>\n",
              "    <tr>\n",
              "      <th>6003</th>\n",
              "      <td>2021-06-28 13:00:00</td>\n",
              "      <td>2021</td>\n",
              "      <td>06 28</td>\n",
              "      <td>06</td>\n",
              "      <td>28</td>\n",
              "      <td>13</td>\n",
              "      <td>6997</td>\n",
              "      <td>29.0</td>\n",
              "      <td>765.0</td>\n",
              "      <td>1.0</td>\n",
              "      <td>0.0</td>\n",
              "      <td>25.0</td>\n",
              "      <td>81.0</td>\n",
              "      <td>0.0</td>\n",
              "      <td>37.0</td>\n",
              "      <td>22.0</td>\n",
              "      <td>70</td>\n",
              "      <td>0</td>\n",
              "    </tr>\n",
              "    <tr>\n",
              "      <th>6004</th>\n",
              "      <td>2021-06-28 14:00:00</td>\n",
              "      <td>2021</td>\n",
              "      <td>06 28</td>\n",
              "      <td>06</td>\n",
              "      <td>28</td>\n",
              "      <td>14</td>\n",
              "      <td>6998</td>\n",
              "      <td>26.0</td>\n",
              "      <td>452.0</td>\n",
              "      <td>1.0</td>\n",
              "      <td>5167.0</td>\n",
              "      <td>21.0</td>\n",
              "      <td>85.0</td>\n",
              "      <td>0.0</td>\n",
              "      <td>38.0</td>\n",
              "      <td>23.0</td>\n",
              "      <td>70</td>\n",
              "      <td>0</td>\n",
              "    </tr>\n",
              "    <tr>\n",
              "      <th>6005</th>\n",
              "      <td>2021-06-28 15:00:00</td>\n",
              "      <td>2021</td>\n",
              "      <td>06 28</td>\n",
              "      <td>06</td>\n",
              "      <td>28</td>\n",
              "      <td>15</td>\n",
              "      <td>6999</td>\n",
              "      <td>24.0</td>\n",
              "      <td>97.0</td>\n",
              "      <td>0.0</td>\n",
              "      <td>8919.0</td>\n",
              "      <td>18.0</td>\n",
              "      <td>90.0</td>\n",
              "      <td>0.0</td>\n",
              "      <td>36.0</td>\n",
              "      <td>24.0</td>\n",
              "      <td>70</td>\n",
              "      <td>0</td>\n",
              "    </tr>\n",
              "  </tbody>\n",
              "</table>\n",
              "<p>6006 rows × 18 columns</p>\n",
              "</div>\n",
              "      <button class=\"colab-df-convert\" onclick=\"convertToInteractive('df-181edad1-6364-4693-8a90-784d76d385e1')\"\n",
              "              title=\"Convert this dataframe to an interactive table.\"\n",
              "              style=\"display:none;\">\n",
              "        \n",
              "  <svg xmlns=\"http://www.w3.org/2000/svg\" height=\"24px\"viewBox=\"0 0 24 24\"\n",
              "       width=\"24px\">\n",
              "    <path d=\"M0 0h24v24H0V0z\" fill=\"none\"/>\n",
              "    <path d=\"M18.56 5.44l.94 2.06.94-2.06 2.06-.94-2.06-.94-.94-2.06-.94 2.06-2.06.94zm-11 1L8.5 8.5l.94-2.06 2.06-.94-2.06-.94L8.5 2.5l-.94 2.06-2.06.94zm10 10l.94 2.06.94-2.06 2.06-.94-2.06-.94-.94-2.06-.94 2.06-2.06.94z\"/><path d=\"M17.41 7.96l-1.37-1.37c-.4-.4-.92-.59-1.43-.59-.52 0-1.04.2-1.43.59L10.3 9.45l-7.72 7.72c-.78.78-.78 2.05 0 2.83L4 21.41c.39.39.9.59 1.41.59.51 0 1.02-.2 1.41-.59l7.78-7.78 2.81-2.81c.8-.78.8-2.07 0-2.86zM5.41 20L4 18.59l7.72-7.72 1.47 1.35L5.41 20z\"/>\n",
              "  </svg>\n",
              "      </button>\n",
              "      \n",
              "  <style>\n",
              "    .colab-df-container {\n",
              "      display:flex;\n",
              "      flex-wrap:wrap;\n",
              "      gap: 12px;\n",
              "    }\n",
              "\n",
              "    .colab-df-convert {\n",
              "      background-color: #E8F0FE;\n",
              "      border: none;\n",
              "      border-radius: 50%;\n",
              "      cursor: pointer;\n",
              "      display: none;\n",
              "      fill: #1967D2;\n",
              "      height: 32px;\n",
              "      padding: 0 0 0 0;\n",
              "      width: 32px;\n",
              "    }\n",
              "\n",
              "    .colab-df-convert:hover {\n",
              "      background-color: #E2EBFA;\n",
              "      box-shadow: 0px 1px 2px rgba(60, 64, 67, 0.3), 0px 1px 3px 1px rgba(60, 64, 67, 0.15);\n",
              "      fill: #174EA6;\n",
              "    }\n",
              "\n",
              "    [theme=dark] .colab-df-convert {\n",
              "      background-color: #3B4455;\n",
              "      fill: #D2E3FC;\n",
              "    }\n",
              "\n",
              "    [theme=dark] .colab-df-convert:hover {\n",
              "      background-color: #434B5C;\n",
              "      box-shadow: 0px 1px 3px 1px rgba(0, 0, 0, 0.15);\n",
              "      filter: drop-shadow(0px 1px 2px rgba(0, 0, 0, 0.3));\n",
              "      fill: #FFFFFF;\n",
              "    }\n",
              "  </style>\n",
              "\n",
              "      <script>\n",
              "        const buttonEl =\n",
              "          document.querySelector('#df-181edad1-6364-4693-8a90-784d76d385e1 button.colab-df-convert');\n",
              "        buttonEl.style.display =\n",
              "          google.colab.kernel.accessAllowed ? 'block' : 'none';\n",
              "\n",
              "        async function convertToInteractive(key) {\n",
              "          const element = document.querySelector('#df-181edad1-6364-4693-8a90-784d76d385e1');\n",
              "          const dataTable =\n",
              "            await google.colab.kernel.invokeFunction('convertToInteractive',\n",
              "                                                     [key], {});\n",
              "          if (!dataTable) return;\n",
              "\n",
              "          const docLinkHtml = 'Like what you see? Visit the ' +\n",
              "            '<a target=\"_blank\" href=https://colab.research.google.com/notebooks/data_table.ipynb>data table notebook</a>'\n",
              "            + ' to learn more about interactive tables.';\n",
              "          element.innerHTML = '';\n",
              "          dataTable['output_type'] = 'display_data';\n",
              "          await google.colab.output.renderOutput(dataTable, element);\n",
              "          const docLink = document.createElement('div');\n",
              "          docLink.innerHTML = docLinkHtml;\n",
              "          element.appendChild(docLink);\n",
              "        }\n",
              "      </script>\n",
              "    </div>\n",
              "  </div>\n",
              "  "
            ]
          },
          "metadata": {},
          "execution_count": 7
        }
      ]
    },
    {
      "cell_type": "code",
      "source": [
        "threshold = origin_data[['내부온도', '내부습도', '(양액)지습']].mean()\n",
        "threshold"
      ],
      "metadata": {
        "colab": {
          "base_uri": "https://localhost:8080/"
        },
        "id": "dz8mbAlC1RbQ",
        "outputId": "2186dc63-f274-4ba2-dac9-6ef63658f50f"
      },
      "execution_count": null,
      "outputs": [
        {
          "output_type": "execute_result",
          "data": {
            "text/plain": [
              "내부온도      13.829691\n",
              "내부습도      91.028657\n",
              "(양액)지습    50.583208\n",
              "dtype: float64"
            ]
          },
          "metadata": {},
          "execution_count": 8
        }
      ]
    },
    {
      "cell_type": "code",
      "source": [
        "# origin_data = origin_data.drop(axis=0)"
      ],
      "metadata": {
        "id": "5Deeaq9P5CbR"
      },
      "execution_count": null,
      "outputs": []
    },
    {
      "cell_type": "code",
      "source": [
        "df_date = origin_data.groupby('month_day').mean()\n",
        "df_date['time'] = df_date['time'].astype(int)\n",
        "df_date"
      ],
      "metadata": {
        "colab": {
          "base_uri": "https://localhost:8080/",
          "height": 554
        },
        "id": "0ttF6Ad0942F",
        "outputId": "49fd6405-89c1-40a7-e309-e76731b35b02"
      },
      "execution_count": null,
      "outputs": [
        {
          "output_type": "execute_result",
          "data": {
            "text/plain": [
              "           time      외부온도      외부 일사량      외부풍속         강우감지       내부온도  \\\n",
              "month_day                                                                 \n",
              "01 28      3371 -0.041667   56.791667  0.708333  4833.333333   8.083333   \n",
              "01 29      3395 -4.250000  141.125000  0.541667  4131.916667   9.083333   \n",
              "01 30      3419 -0.791667   93.083333  0.083333    76.416667   9.083333   \n",
              "01 31      3443  3.875000  106.875000  0.208333   930.541667   9.833333   \n",
              "02 01      3467  7.875000   61.041667  0.666667  2881.916667   9.500000   \n",
              "...         ...       ...         ...       ...          ...        ...   \n",
              "12 26      2579  1.083333  127.210526  0.705882     0.000000  14.541667   \n",
              "12 27      2603  3.333333   39.000000  0.071429  3152.791667  12.708333   \n",
              "12 28      2627  1.928571  140.000000  0.000000     0.000000  10.000000   \n",
              "12 29      2645  0.727273   58.500000  0.250000     0.000000  12.545455   \n",
              "12 31      2693 -8.363636   59.636364  0.363636     0.000000   7.636364   \n",
              "\n",
              "                내부습도  내부CO2         지온     (양액)지습   차광커튼작동상태   측창  \n",
              "month_day                                                          \n",
              "01 28      95.291667    0.0  13.458333  52.916667  13.083333  0.0  \n",
              "01 29      92.916667    0.0  13.500000  53.250000  21.041667  0.0  \n",
              "01 30      93.666667    0.0  14.166667  53.000000  21.458333  0.0  \n",
              "01 31      92.875000    0.0  15.041667  53.208333  21.500000  0.0  \n",
              "02 01      95.916667    0.0  15.541667  53.583333  21.666667  0.0  \n",
              "...              ...    ...        ...        ...        ...  ...  \n",
              "12 26      95.541667    NaN  14.500000  51.041667   9.458333  0.0  \n",
              "12 27      98.000000    NaN  13.500000  51.083333   8.375000  0.0  \n",
              "12 28      95.050000    0.0  12.357143  50.238095   7.333333  0.0  \n",
              "12 29      96.909091    NaN  13.545455  49.909091   3.090909  0.0  \n",
              "12 31      95.818182    0.0  10.545455  49.000000   2.727273  0.0  \n",
              "\n",
              "[257 rows x 12 columns]"
            ],
            "text/html": [
              "\n",
              "  <div id=\"df-b0587277-e01c-455f-a04a-fd2a380d32bd\">\n",
              "    <div class=\"colab-df-container\">\n",
              "      <div>\n",
              "<style scoped>\n",
              "    .dataframe tbody tr th:only-of-type {\n",
              "        vertical-align: middle;\n",
              "    }\n",
              "\n",
              "    .dataframe tbody tr th {\n",
              "        vertical-align: top;\n",
              "    }\n",
              "\n",
              "    .dataframe thead th {\n",
              "        text-align: right;\n",
              "    }\n",
              "</style>\n",
              "<table border=\"1\" class=\"dataframe\">\n",
              "  <thead>\n",
              "    <tr style=\"text-align: right;\">\n",
              "      <th></th>\n",
              "      <th>time</th>\n",
              "      <th>외부온도</th>\n",
              "      <th>외부 일사량</th>\n",
              "      <th>외부풍속</th>\n",
              "      <th>강우감지</th>\n",
              "      <th>내부온도</th>\n",
              "      <th>내부습도</th>\n",
              "      <th>내부CO2</th>\n",
              "      <th>지온</th>\n",
              "      <th>(양액)지습</th>\n",
              "      <th>차광커튼작동상태</th>\n",
              "      <th>측창</th>\n",
              "    </tr>\n",
              "    <tr>\n",
              "      <th>month_day</th>\n",
              "      <th></th>\n",
              "      <th></th>\n",
              "      <th></th>\n",
              "      <th></th>\n",
              "      <th></th>\n",
              "      <th></th>\n",
              "      <th></th>\n",
              "      <th></th>\n",
              "      <th></th>\n",
              "      <th></th>\n",
              "      <th></th>\n",
              "      <th></th>\n",
              "    </tr>\n",
              "  </thead>\n",
              "  <tbody>\n",
              "    <tr>\n",
              "      <th>01 28</th>\n",
              "      <td>3371</td>\n",
              "      <td>-0.041667</td>\n",
              "      <td>56.791667</td>\n",
              "      <td>0.708333</td>\n",
              "      <td>4833.333333</td>\n",
              "      <td>8.083333</td>\n",
              "      <td>95.291667</td>\n",
              "      <td>0.0</td>\n",
              "      <td>13.458333</td>\n",
              "      <td>52.916667</td>\n",
              "      <td>13.083333</td>\n",
              "      <td>0.0</td>\n",
              "    </tr>\n",
              "    <tr>\n",
              "      <th>01 29</th>\n",
              "      <td>3395</td>\n",
              "      <td>-4.250000</td>\n",
              "      <td>141.125000</td>\n",
              "      <td>0.541667</td>\n",
              "      <td>4131.916667</td>\n",
              "      <td>9.083333</td>\n",
              "      <td>92.916667</td>\n",
              "      <td>0.0</td>\n",
              "      <td>13.500000</td>\n",
              "      <td>53.250000</td>\n",
              "      <td>21.041667</td>\n",
              "      <td>0.0</td>\n",
              "    </tr>\n",
              "    <tr>\n",
              "      <th>01 30</th>\n",
              "      <td>3419</td>\n",
              "      <td>-0.791667</td>\n",
              "      <td>93.083333</td>\n",
              "      <td>0.083333</td>\n",
              "      <td>76.416667</td>\n",
              "      <td>9.083333</td>\n",
              "      <td>93.666667</td>\n",
              "      <td>0.0</td>\n",
              "      <td>14.166667</td>\n",
              "      <td>53.000000</td>\n",
              "      <td>21.458333</td>\n",
              "      <td>0.0</td>\n",
              "    </tr>\n",
              "    <tr>\n",
              "      <th>01 31</th>\n",
              "      <td>3443</td>\n",
              "      <td>3.875000</td>\n",
              "      <td>106.875000</td>\n",
              "      <td>0.208333</td>\n",
              "      <td>930.541667</td>\n",
              "      <td>9.833333</td>\n",
              "      <td>92.875000</td>\n",
              "      <td>0.0</td>\n",
              "      <td>15.041667</td>\n",
              "      <td>53.208333</td>\n",
              "      <td>21.500000</td>\n",
              "      <td>0.0</td>\n",
              "    </tr>\n",
              "    <tr>\n",
              "      <th>02 01</th>\n",
              "      <td>3467</td>\n",
              "      <td>7.875000</td>\n",
              "      <td>61.041667</td>\n",
              "      <td>0.666667</td>\n",
              "      <td>2881.916667</td>\n",
              "      <td>9.500000</td>\n",
              "      <td>95.916667</td>\n",
              "      <td>0.0</td>\n",
              "      <td>15.541667</td>\n",
              "      <td>53.583333</td>\n",
              "      <td>21.666667</td>\n",
              "      <td>0.0</td>\n",
              "    </tr>\n",
              "    <tr>\n",
              "      <th>...</th>\n",
              "      <td>...</td>\n",
              "      <td>...</td>\n",
              "      <td>...</td>\n",
              "      <td>...</td>\n",
              "      <td>...</td>\n",
              "      <td>...</td>\n",
              "      <td>...</td>\n",
              "      <td>...</td>\n",
              "      <td>...</td>\n",
              "      <td>...</td>\n",
              "      <td>...</td>\n",
              "      <td>...</td>\n",
              "    </tr>\n",
              "    <tr>\n",
              "      <th>12 26</th>\n",
              "      <td>2579</td>\n",
              "      <td>1.083333</td>\n",
              "      <td>127.210526</td>\n",
              "      <td>0.705882</td>\n",
              "      <td>0.000000</td>\n",
              "      <td>14.541667</td>\n",
              "      <td>95.541667</td>\n",
              "      <td>NaN</td>\n",
              "      <td>14.500000</td>\n",
              "      <td>51.041667</td>\n",
              "      <td>9.458333</td>\n",
              "      <td>0.0</td>\n",
              "    </tr>\n",
              "    <tr>\n",
              "      <th>12 27</th>\n",
              "      <td>2603</td>\n",
              "      <td>3.333333</td>\n",
              "      <td>39.000000</td>\n",
              "      <td>0.071429</td>\n",
              "      <td>3152.791667</td>\n",
              "      <td>12.708333</td>\n",
              "      <td>98.000000</td>\n",
              "      <td>NaN</td>\n",
              "      <td>13.500000</td>\n",
              "      <td>51.083333</td>\n",
              "      <td>8.375000</td>\n",
              "      <td>0.0</td>\n",
              "    </tr>\n",
              "    <tr>\n",
              "      <th>12 28</th>\n",
              "      <td>2627</td>\n",
              "      <td>1.928571</td>\n",
              "      <td>140.000000</td>\n",
              "      <td>0.000000</td>\n",
              "      <td>0.000000</td>\n",
              "      <td>10.000000</td>\n",
              "      <td>95.050000</td>\n",
              "      <td>0.0</td>\n",
              "      <td>12.357143</td>\n",
              "      <td>50.238095</td>\n",
              "      <td>7.333333</td>\n",
              "      <td>0.0</td>\n",
              "    </tr>\n",
              "    <tr>\n",
              "      <th>12 29</th>\n",
              "      <td>2645</td>\n",
              "      <td>0.727273</td>\n",
              "      <td>58.500000</td>\n",
              "      <td>0.250000</td>\n",
              "      <td>0.000000</td>\n",
              "      <td>12.545455</td>\n",
              "      <td>96.909091</td>\n",
              "      <td>NaN</td>\n",
              "      <td>13.545455</td>\n",
              "      <td>49.909091</td>\n",
              "      <td>3.090909</td>\n",
              "      <td>0.0</td>\n",
              "    </tr>\n",
              "    <tr>\n",
              "      <th>12 31</th>\n",
              "      <td>2693</td>\n",
              "      <td>-8.363636</td>\n",
              "      <td>59.636364</td>\n",
              "      <td>0.363636</td>\n",
              "      <td>0.000000</td>\n",
              "      <td>7.636364</td>\n",
              "      <td>95.818182</td>\n",
              "      <td>0.0</td>\n",
              "      <td>10.545455</td>\n",
              "      <td>49.000000</td>\n",
              "      <td>2.727273</td>\n",
              "      <td>0.0</td>\n",
              "    </tr>\n",
              "  </tbody>\n",
              "</table>\n",
              "<p>257 rows × 12 columns</p>\n",
              "</div>\n",
              "      <button class=\"colab-df-convert\" onclick=\"convertToInteractive('df-b0587277-e01c-455f-a04a-fd2a380d32bd')\"\n",
              "              title=\"Convert this dataframe to an interactive table.\"\n",
              "              style=\"display:none;\">\n",
              "        \n",
              "  <svg xmlns=\"http://www.w3.org/2000/svg\" height=\"24px\"viewBox=\"0 0 24 24\"\n",
              "       width=\"24px\">\n",
              "    <path d=\"M0 0h24v24H0V0z\" fill=\"none\"/>\n",
              "    <path d=\"M18.56 5.44l.94 2.06.94-2.06 2.06-.94-2.06-.94-.94-2.06-.94 2.06-2.06.94zm-11 1L8.5 8.5l.94-2.06 2.06-.94-2.06-.94L8.5 2.5l-.94 2.06-2.06.94zm10 10l.94 2.06.94-2.06 2.06-.94-2.06-.94-.94-2.06-.94 2.06-2.06.94z\"/><path d=\"M17.41 7.96l-1.37-1.37c-.4-.4-.92-.59-1.43-.59-.52 0-1.04.2-1.43.59L10.3 9.45l-7.72 7.72c-.78.78-.78 2.05 0 2.83L4 21.41c.39.39.9.59 1.41.59.51 0 1.02-.2 1.41-.59l7.78-7.78 2.81-2.81c.8-.78.8-2.07 0-2.86zM5.41 20L4 18.59l7.72-7.72 1.47 1.35L5.41 20z\"/>\n",
              "  </svg>\n",
              "      </button>\n",
              "      \n",
              "  <style>\n",
              "    .colab-df-container {\n",
              "      display:flex;\n",
              "      flex-wrap:wrap;\n",
              "      gap: 12px;\n",
              "    }\n",
              "\n",
              "    .colab-df-convert {\n",
              "      background-color: #E8F0FE;\n",
              "      border: none;\n",
              "      border-radius: 50%;\n",
              "      cursor: pointer;\n",
              "      display: none;\n",
              "      fill: #1967D2;\n",
              "      height: 32px;\n",
              "      padding: 0 0 0 0;\n",
              "      width: 32px;\n",
              "    }\n",
              "\n",
              "    .colab-df-convert:hover {\n",
              "      background-color: #E2EBFA;\n",
              "      box-shadow: 0px 1px 2px rgba(60, 64, 67, 0.3), 0px 1px 3px 1px rgba(60, 64, 67, 0.15);\n",
              "      fill: #174EA6;\n",
              "    }\n",
              "\n",
              "    [theme=dark] .colab-df-convert {\n",
              "      background-color: #3B4455;\n",
              "      fill: #D2E3FC;\n",
              "    }\n",
              "\n",
              "    [theme=dark] .colab-df-convert:hover {\n",
              "      background-color: #434B5C;\n",
              "      box-shadow: 0px 1px 3px 1px rgba(0, 0, 0, 0.15);\n",
              "      filter: drop-shadow(0px 1px 2px rgba(0, 0, 0, 0.3));\n",
              "      fill: #FFFFFF;\n",
              "    }\n",
              "  </style>\n",
              "\n",
              "      <script>\n",
              "        const buttonEl =\n",
              "          document.querySelector('#df-b0587277-e01c-455f-a04a-fd2a380d32bd button.colab-df-convert');\n",
              "        buttonEl.style.display =\n",
              "          google.colab.kernel.accessAllowed ? 'block' : 'none';\n",
              "\n",
              "        async function convertToInteractive(key) {\n",
              "          const element = document.querySelector('#df-b0587277-e01c-455f-a04a-fd2a380d32bd');\n",
              "          const dataTable =\n",
              "            await google.colab.kernel.invokeFunction('convertToInteractive',\n",
              "                                                     [key], {});\n",
              "          if (!dataTable) return;\n",
              "\n",
              "          const docLinkHtml = 'Like what you see? Visit the ' +\n",
              "            '<a target=\"_blank\" href=https://colab.research.google.com/notebooks/data_table.ipynb>data table notebook</a>'\n",
              "            + ' to learn more about interactive tables.';\n",
              "          element.innerHTML = '';\n",
              "          dataTable['output_type'] = 'display_data';\n",
              "          await google.colab.output.renderOutput(dataTable, element);\n",
              "          const docLink = document.createElement('div');\n",
              "          docLink.innerHTML = docLinkHtml;\n",
              "          element.appendChild(docLink);\n",
              "        }\n",
              "      </script>\n",
              "    </div>\n",
              "  </div>\n",
              "  "
            ]
          },
          "metadata": {},
          "execution_count": 10
        }
      ]
    },
    {
      "cell_type": "code",
      "source": [
        "x = df_date.index.values\n",
        "cols = ['내부온도', '내부습도', '(양액)지습']\n",
        "\n",
        "for col in cols:\n",
        "    plt.figure(figsize=(20, 5))\n",
        "    plt.title(col)\n",
        "    plt.plot(x, df_date[col])\n",
        "    plt.gca().axes.xaxis.set_visible(False)\n",
        "    plt.show()"
      ],
      "metadata": {
        "colab": {
          "base_uri": "https://localhost:8080/",
          "height": 514
        },
        "id": "Da5PHpysvsqD",
        "outputId": "eff55be6-d831-439b-e2d7-8c83cbf1e990"
      },
      "execution_count": null,
      "outputs": [
        {
          "output_type": "display_data",
          "data": {
            "text/plain": [
              "<Figure size 1440x360 with 1 Axes>"
            ],
            "image/png": "[encoded data removed]"
          },
          "metadata": {
            "needs_background": "light"
          }
        },
        {
          "output_type": "display_data",
          "data": {
            "text/plain": [
              "<Figure size 1440x360 with 1 Axes>"
            ],
            "image/png": "[encoded data removed]"
          },
          "metadata": {
            "needs_background": "light"
          }
        },
        {
          "output_type": "display_data",
          "data": {
            "text/plain": [
              "<Figure size 1440x360 with 1 Axes>"
            ],
            "image/png": "[encoded data removed]"
          },
          "metadata": {
            "needs_background": "light"
          }
        }
      ]
    },
    {
      "cell_type": "code",
      "source": [
        "df_data = df_date[cols]\n",
        "df_data"
      ],
      "metadata": {
        "colab": {
          "base_uri": "https://localhost:8080/",
          "height": 455
        },
        "id": "SBES6d4xYFDm",
        "outputId": "d02713dd-9ca4-4675-f3eb-f7761ef3e892"
      },
      "execution_count": null,
      "outputs": [
        {
          "output_type": "execute_result",
          "data": {
            "text/plain": [
              "                내부온도       내부습도     (양액)지습\n",
              "month_day                                 \n",
              "01 28       8.083333  95.291667  52.916667\n",
              "01 29       9.083333  92.916667  53.250000\n",
              "01 30       9.083333  93.666667  53.000000\n",
              "01 31       9.833333  92.875000  53.208333\n",
              "02 01       9.500000  95.916667  53.583333\n",
              "...              ...        ...        ...\n",
              "12 26      14.541667  95.541667  51.041667\n",
              "12 27      12.708333  98.000000  51.083333\n",
              "12 28      10.000000  95.050000  50.238095\n",
              "12 29      12.545455  96.909091  49.909091\n",
              "12 31       7.636364  95.818182  49.000000\n",
              "\n",
              "[257 rows x 3 columns]"
            ],
            "text/html": [
              "\n",
              "  <div id=\"df-6b95e234-4e93-4206-8c8c-7cc257255021\">\n",
              "    <div class=\"colab-df-container\">\n",
              "      <div>\n",
              "<style scoped>\n",
              "    .dataframe tbody tr th:only-of-type {\n",
              "        vertical-align: middle;\n",
              "    }\n",
              "\n",
              "    .dataframe tbody tr th {\n",
              "        vertical-align: top;\n",
              "    }\n",
              "\n",
              "    .dataframe thead th {\n",
              "        text-align: right;\n",
              "    }\n",
              "</style>\n",
              "<table border=\"1\" class=\"dataframe\">\n",
              "  <thead>\n",
              "    <tr style=\"text-align: right;\">\n",
              "      <th></th>\n",
              "      <th>내부온도</th>\n",
              "      <th>내부습도</th>\n",
              "      <th>(양액)지습</th>\n",
              "    </tr>\n",
              "    <tr>\n",
              "      <th>month_day</th>\n",
              "      <th></th>\n",
              "      <th></th>\n",
              "      <th></th>\n",
              "    </tr>\n",
              "  </thead>\n",
              "  <tbody>\n",
              "    <tr>\n",
              "      <th>01 28</th>\n",
              "      <td>8.083333</td>\n",
              "      <td>95.291667</td>\n",
              "      <td>52.916667</td>\n",
              "    </tr>\n",
              "    <tr>\n",
              "      <th>01 29</th>\n",
              "      <td>9.083333</td>\n",
              "      <td>92.916667</td>\n",
              "      <td>53.250000</td>\n",
              "    </tr>\n",
              "    <tr>\n",
              "      <th>01 30</th>\n",
              "      <td>9.083333</td>\n",
              "      <td>93.666667</td>\n",
              "      <td>53.000000</td>\n",
              "    </tr>\n",
              "    <tr>\n",
              "      <th>01 31</th>\n",
              "      <td>9.833333</td>\n",
              "      <td>92.875000</td>\n",
              "      <td>53.208333</td>\n",
              "    </tr>\n",
              "    <tr>\n",
              "      <th>02 01</th>\n",
              "      <td>9.500000</td>\n",
              "      <td>95.916667</td>\n",
              "      <td>53.583333</td>\n",
              "    </tr>\n",
              "    <tr>\n",
              "      <th>...</th>\n",
              "      <td>...</td>\n",
              "      <td>...</td>\n",
              "      <td>...</td>\n",
              "    </tr>\n",
              "    <tr>\n",
              "      <th>12 26</th>\n",
              "      <td>14.541667</td>\n",
              "      <td>95.541667</td>\n",
              "      <td>51.041667</td>\n",
              "    </tr>\n",
              "    <tr>\n",
              "      <th>12 27</th>\n",
              "      <td>12.708333</td>\n",
              "      <td>98.000000</td>\n",
              "      <td>51.083333</td>\n",
              "    </tr>\n",
              "    <tr>\n",
              "      <th>12 28</th>\n",
              "      <td>10.000000</td>\n",
              "      <td>95.050000</td>\n",
              "      <td>50.238095</td>\n",
              "    </tr>\n",
              "    <tr>\n",
              "      <th>12 29</th>\n",
              "      <td>12.545455</td>\n",
              "      <td>96.909091</td>\n",
              "      <td>49.909091</td>\n",
              "    </tr>\n",
              "    <tr>\n",
              "      <th>12 31</th>\n",
              "      <td>7.636364</td>\n",
              "      <td>95.818182</td>\n",
              "      <td>49.000000</td>\n",
              "    </tr>\n",
              "  </tbody>\n",
              "</table>\n",
              "<p>257 rows × 3 columns</p>\n",
              "</div>\n",
              "      <button class=\"colab-df-convert\" onclick=\"convertToInteractive('df-6b95e234-4e93-4206-8c8c-7cc257255021')\"\n",
              "              title=\"Convert this dataframe to an interactive table.\"\n",
              "              style=\"display:none;\">\n",
              "        \n",
              "  <svg xmlns=\"http://www.w3.org/2000/svg\" height=\"24px\"viewBox=\"0 0 24 24\"\n",
              "       width=\"24px\">\n",
              "    <path d=\"M0 0h24v24H0V0z\" fill=\"none\"/>\n",
              "    <path d=\"M18.56 5.44l.94 2.06.94-2.06 2.06-.94-2.06-.94-.94-2.06-.94 2.06-2.06.94zm-11 1L8.5 8.5l.94-2.06 2.06-.94-2.06-.94L8.5 2.5l-.94 2.06-2.06.94zm10 10l.94 2.06.94-2.06 2.06-.94-2.06-.94-.94-2.06-.94 2.06-2.06.94z\"/><path d=\"M17.41 7.96l-1.37-1.37c-.4-.4-.92-.59-1.43-.59-.52 0-1.04.2-1.43.59L10.3 9.45l-7.72 7.72c-.78.78-.78 2.05 0 2.83L4 21.41c.39.39.9.59 1.41.59.51 0 1.02-.2 1.41-.59l7.78-7.78 2.81-2.81c.8-.78.8-2.07 0-2.86zM5.41 20L4 18.59l7.72-7.72 1.47 1.35L5.41 20z\"/>\n",
              "  </svg>\n",
              "      </button>\n",
              "      \n",
              "  <style>\n",
              "    .colab-df-container {\n",
              "      display:flex;\n",
              "      flex-wrap:wrap;\n",
              "      gap: 12px;\n",
              "    }\n",
              "\n",
              "    .colab-df-convert {\n",
              "      background-color: #E8F0FE;\n",
              "      border: none;\n",
              "      border-radius: 50%;\n",
              "      cursor: pointer;\n",
              "      display: none;\n",
              "      fill: #1967D2;\n",
              "      height: 32px;\n",
              "      padding: 0 0 0 0;\n",
              "      width: 32px;\n",
              "    }\n",
              "\n",
              "    .colab-df-convert:hover {\n",
              "      background-color: #E2EBFA;\n",
              "      box-shadow: 0px 1px 2px rgba(60, 64, 67, 0.3), 0px 1px 3px 1px rgba(60, 64, 67, 0.15);\n",
              "      fill: #174EA6;\n",
              "    }\n",
              "\n",
              "    [theme=dark] .colab-df-convert {\n",
              "      background-color: #3B4455;\n",
              "      fill: #D2E3FC;\n",
              "    }\n",
              "\n",
              "    [theme=dark] .colab-df-convert:hover {\n",
              "      background-color: #434B5C;\n",
              "      box-shadow: 0px 1px 3px 1px rgba(0, 0, 0, 0.15);\n",
              "      filter: drop-shadow(0px 1px 2px rgba(0, 0, 0, 0.3));\n",
              "      fill: #FFFFFF;\n",
              "    }\n",
              "  </style>\n",
              "\n",
              "      <script>\n",
              "        const buttonEl =\n",
              "          document.querySelector('#df-6b95e234-4e93-4206-8c8c-7cc257255021 button.colab-df-convert');\n",
              "        buttonEl.style.display =\n",
              "          google.colab.kernel.accessAllowed ? 'block' : 'none';\n",
              "\n",
              "        async function convertToInteractive(key) {\n",
              "          const element = document.querySelector('#df-6b95e234-4e93-4206-8c8c-7cc257255021');\n",
              "          const dataTable =\n",
              "            await google.colab.kernel.invokeFunction('convertToInteractive',\n",
              "                                                     [key], {});\n",
              "          if (!dataTable) return;\n",
              "\n",
              "          const docLinkHtml = 'Like what you see? Visit the ' +\n",
              "            '<a target=\"_blank\" href=https://colab.research.google.com/notebooks/data_table.ipynb>data table notebook</a>'\n",
              "            + ' to learn more about interactive tables.';\n",
              "          element.innerHTML = '';\n",
              "          dataTable['output_type'] = 'display_data';\n",
              "          await google.colab.output.renderOutput(dataTable, element);\n",
              "          const docLink = document.createElement('div');\n",
              "          docLink.innerHTML = docLinkHtml;\n",
              "          element.appendChild(docLink);\n",
              "        }\n",
              "      </script>\n",
              "    </div>\n",
              "  </div>\n",
              "  "
            ]
          },
          "metadata": {},
          "execution_count": 73
        }
      ]
    },
    {
      "cell_type": "code",
      "source": [
        "df_data.to_csv(\"data4graph.csv\", index = False)"
      ],
      "metadata": {
        "id": "T_P17hObXcTl"
      },
      "execution_count": null,
      "outputs": []
    },
    {
      "cell_type": "markdown",
      "source": [
        "하루 중 온도 변화 시간에 따라 저장"
      ],
      "metadata": {
        "id": "4avGJxdy2lXf"
      }
    },
    {
      "cell_type": "markdown",
      "source": [
        "### Score 저장할 DF 생성"
      ],
      "metadata": {
        "id": "VzsnqXmE1CRd"
      }
    },
    {
      "cell_type": "code",
      "source": [
        "models = ['Linear', 'Polynomial', 'Ridge', 'Lasso', 'ElasticNet']\n",
        "modelLength = len(models)"
      ],
      "metadata": {
        "id": "a0mbc9l4o2vB"
      },
      "execution_count": null,
      "outputs": []
    },
    {
      "cell_type": "code",
      "source": [
        "temp_score = pd.DataFrame({'model':['Linear', 'Polynomial', 'Ridge', 'Lasso', 'ElasticNet'],\n",
        "                           'score':[0 for i in range(modelLength)],\n",
        "                           'best_params':[0 for i in range(modelLength)],\n",
        "                           'predict' : [0 for i in range(modelLength)],\n",
        "                           'recommended':[0 for i in range(modelLength)]})"
      ],
      "metadata": {
        "id": "0KIvSleolhNY"
      },
      "execution_count": null,
      "outputs": []
    },
    {
      "cell_type": "markdown",
      "source": [
        "### Linear Regression"
      ],
      "metadata": {
        "id": "AKCUz11nHbnh"
      }
    },
    {
      "cell_type": "code",
      "source": [
        "model = LinearRegression()"
      ],
      "metadata": {
        "id": "84jsMzEUEfgb"
      },
      "execution_count": null,
      "outputs": []
    },
    {
      "cell_type": "code",
      "source": [
        "x = df_date['time']\n",
        "temp = df_date['내부온도']\n",
        "x_train, x_test, y_train, y_test = train_test_split(x, temp, test_size=0.25, random_state=0)\n",
        "\n",
        "model1 = model\n",
        "model1.fit(x_train[:, np.newaxis], y_train)\n",
        "py = model1.predict(x_test[:, np.newaxis])\n",
        "score = model1.score(x_test[:, np.newaxis], y_test)\n",
        "predict = model1.predict(x[-1].reshape(-1, 1))[0]\n",
        "temp_score['score'][temp_score['model'] == 'Linear'] = score\n",
        "temp_score['predict'][temp_score['model'] == 'Linear'] = predict\n",
        "score"
      ],
      "metadata": {
        "colab": {
          "base_uri": "https://localhost:8080/"
        },
        "id": "pFguOPJKe857",
        "outputId": "ba1fa36d-4466-4761-ff9f-734a67d38ac0"
      },
      "execution_count": null,
      "outputs": [
        {
          "output_type": "execute_result",
          "data": {
            "text/plain": [
              "0.31194916871692346"
            ]
          },
          "metadata": {},
          "execution_count": 66
        }
      ]
    },
    {
      "cell_type": "markdown",
      "source": [
        "### Polynomial Regression"
      ],
      "metadata": {
        "id": "3ZOOyVwZHuNp"
      }
    },
    {
      "cell_type": "code",
      "source": [
        "degree = 2\n",
        "n = 30"
      ],
      "metadata": {
        "id": "QIhoMXwGFGL2"
      },
      "execution_count": null,
      "outputs": []
    },
    {
      "cell_type": "code",
      "source": [
        "x = df_date['time']\n",
        "temp = df_date['내부온도']\n",
        "x_train, x_test, y_train, y_test = train_test_split(x, temp, test_size=0.25, random_state=0)\n",
        "score = pd.DataFrame(index=range(0,n), columns = {'degree', 'score'})\n",
        "\n",
        "for i in range(n):\n",
        "    degree = i+1\n",
        "    model = Pipeline([('poly', PolynomialFeatures(degree=degree)), \n",
        "                      ('linear', LinearRegression(fit_intercept=False))])\n",
        "    model.fit(x_train[:, np.newaxis], y_train)\n",
        "    py = model.predict(x_test[:, np.newaxis])\n",
        "    score['degree'][i] = degree\n",
        "    score['score'][i] = model.score(x_test[:, np.newaxis], y_test)\n",
        "\n",
        "score['degree'] = score['degree'].astype(int)\n",
        "score['score'] = score['score'].astype(float)\n",
        "best_degree = score.loc[score['score'].idxmax()]['degree'].astype(int)\n",
        "\n",
        "degree = best_degree\n",
        "model = Pipeline([('poly', PolynomialFeatures(degree=degree)), \n",
        "                  ('linear', LinearRegression(fit_intercept=False))])\n",
        "model.fit(x_train[:, np.newaxis], y_train)\n",
        "py = model.predict(x_test[:, np.newaxis])\n",
        "best_score = model.score(x_test[:, np.newaxis], y_test)\n",
        "predict = model.predict(x[-1].reshape(-1, 1))[0]\n",
        "print('best_degree : ', best_degree, '\\nbest_score : ', best_score, '\\npredict : ', predict)\n",
        "temp_score['score'][temp_score['model'] == 'Polynomial'] = best_score\n",
        "temp_score['best_params'][temp_score['model'] == 'Polynomial'] = best_degree\n",
        "temp_score['predict'][temp_score['model'] == 'Polynomial'] = predict"
      ],
      "metadata": {
        "colab": {
          "base_uri": "https://localhost:8080/"
        },
        "id": "cX7oSbAuHtMG",
        "outputId": "66b6542c-7cbc-4d8f-c056-b48aee5fdd08"
      },
      "execution_count": null,
      "outputs": [
        {
          "output_type": "stream",
          "name": "stdout",
          "text": [
            "best_degree :  2 \n",
            "best_score :  0.8213914658971256 \n",
            "predict :  11.857250362760222\n"
          ]
        }
      ]
    },
    {
      "cell_type": "markdown",
      "source": [
        "### Ridge Regression"
      ],
      "metadata": {
        "id": "epLCzDQIHx0j"
      }
    },
    {
      "cell_type": "code",
      "source": [
        "from sklearn.model_selection import GridSearchCV\n",
        "from sklearn.linear_model import Ridge"
      ],
      "metadata": {
        "id": "jHpXXZsfH0S8"
      },
      "execution_count": null,
      "outputs": []
    },
    {
      "cell_type": "code",
      "source": [
        "model = Ridge()\n",
        "parameters = {'alpha':[1e-15, 1e-10, 1e-8, 1e-4, 1e-3, 1e-2, 1, 5, 10, 20]}"
      ],
      "metadata": {
        "id": "DW4qAw-ts1DB"
      },
      "execution_count": null,
      "outputs": []
    },
    {
      "cell_type": "code",
      "source": [
        "rr = model\n",
        "x = df_date['time'].values.reshape(-1, 1)\n",
        "temp = df_date['내부온도'].values.reshape(-1, 1)\n",
        "ridge = GridSearchCV(rr, parameters, scoring='neg_mean_squared_error', cv=5)\n",
        "ridge.fit(x, temp)\n",
        "predict = ridge.predict(x[-1].reshape(-1, 1))[0,0]\n",
        "temp_score['score'][temp_score['model'] == 'Ridge'] = 1 + ridge.best_score_\n",
        "temp_score['best_params'][temp_score['model'] == 'Ridge'] = ridge.best_params_\n",
        "temp_score['predict'][temp_score['model'] == 'Ridge'] = predict"
      ],
      "metadata": {
        "id": "g3X1smbDs054"
      },
      "execution_count": null,
      "outputs": []
    },
    {
      "cell_type": "code",
      "source": [
        "predict = ridge.predict(x[-1].reshape(-1, 1))[0,0]\n",
        "predict"
      ],
      "metadata": {
        "colab": {
          "base_uri": "https://localhost:8080/"
        },
        "id": "8voMNP0O9few",
        "outputId": "98ffa0b8-daa7-49b9-e1db-aa354b804411"
      },
      "execution_count": null,
      "outputs": [
        {
          "output_type": "execute_result",
          "data": {
            "text/plain": [
              "14.516085777717306"
            ]
          },
          "metadata": {},
          "execution_count": 57
        }
      ]
    },
    {
      "cell_type": "code",
      "source": [
        "x[-1].reshape(-1,1)"
      ],
      "metadata": {
        "colab": {
          "base_uri": "https://localhost:8080/"
        },
        "id": "GcuLkhLG_fui",
        "outputId": "83a51a4e-3910-4f34-8af1-6222bd8ad1c7"
      },
      "execution_count": null,
      "outputs": [
        {
          "output_type": "execute_result",
          "data": {
            "text/plain": [
              "array([[2693]])"
            ]
          },
          "metadata": {},
          "execution_count": 41
        }
      ]
    },
    {
      "cell_type": "markdown",
      "source": [
        "### Lasso Regression"
      ],
      "metadata": {
        "id": "XeAPgFtiH00o"
      }
    },
    {
      "cell_type": "code",
      "source": [
        "from sklearn.model_selection import GridSearchCV\n",
        "from sklearn.linear_model import Lasso"
      ],
      "metadata": {
        "id": "TQ9pVoyRH3DD"
      },
      "execution_count": null,
      "outputs": []
    },
    {
      "cell_type": "code",
      "source": [
        "model = Lasso()\n",
        "parameters = {'alpha':[1e-15, 1e-10, 1e-8, 1e-4, 1e-3, 1e-2, 1, 5, 10, 20]}"
      ],
      "metadata": {
        "id": "nznNvDfjwXaa"
      },
      "execution_count": null,
      "outputs": []
    },
    {
      "cell_type": "code",
      "source": [
        "la = model\n",
        "x = df_date['time'].values.reshape(-1, 1)\n",
        "temp = df_date['내부온도'].values.reshape(-1, 1)\n",
        "lasso = GridSearchCV(la, parameters, scoring='neg_mean_squared_error', cv=5)\n",
        "lasso.fit(x, temp)\n",
        "predict = lasso.predict(x[-1].reshape(-1, 1))[0]\n",
        "temp_score['score'][temp_score['model'] == 'Lasso'] = 1 + lasso.best_score_\n",
        "temp_score['best_params'][temp_score['model'] == 'Lasso'] = lasso.best_params_\n",
        "temp_score['predict'][temp_score['model'] == 'Lasso'] = predict"
      ],
      "metadata": {
        "id": "-lXP-dbnwXfF"
      },
      "execution_count": null,
      "outputs": []
    },
    {
      "cell_type": "markdown",
      "source": [
        "### Elastic Net Regression"
      ],
      "metadata": {
        "id": "o4bcORQFIIOB"
      }
    },
    {
      "cell_type": "code",
      "source": [
        "from sklearn.model_selection import GridSearchCV\n",
        "from sklearn.linear_model import ElasticNet"
      ],
      "metadata": {
        "id": "VlDXpcFQIKUE"
      },
      "execution_count": null,
      "outputs": []
    },
    {
      "cell_type": "code",
      "source": [
        "model = ElasticNet()\n",
        "parameters = {'alpha':[1e-15, 1e-10, 1e-8, 1e-4, 1e-3, 1e-2, 1, 5, 10, 20]}"
      ],
      "metadata": {
        "id": "-cSrDv_KwdMV"
      },
      "execution_count": null,
      "outputs": []
    },
    {
      "cell_type": "code",
      "source": [
        "el = model\n",
        "x = df_date['time'].values.reshape(-1, 1)\n",
        "temp = df_date['내부온도'].values.reshape(-1, 1)\n",
        "elasticNet = GridSearchCV(el, parameters, scoring='neg_mean_squared_error', cv=5)\n",
        "elasticNet.fit(x, temp)\n",
        "predict = elasticNet.predict(x[-1].reshape(-1, 1))[0]\n",
        "temp_score['score'][temp_score['model'] == 'ElasticNet'] = 1 + elasticNet.best_score_\n",
        "temp_score['best_params'][temp_score['model'] == 'ElasticNet'] = elasticNet.best_params_\n",
        "temp_score['predict'][temp_score['model'] == 'ElasticNet'] = predict"
      ],
      "metadata": {
        "id": "0PFYY7rwwdVm"
      },
      "execution_count": null,
      "outputs": []
    },
    {
      "cell_type": "markdown",
      "source": [
        "* 환경데이터를 multivariable로 사용하여 기온 습도 등을 예측할 수 있는 방법 고안 -> 상관관계 값을 가중치로 활용하여 더하면 될 것 같음\n",
        "* 날씨 예측 시점을 명확하게 하는 것이 필요해 보임"
      ],
      "metadata": {
        "id": "WJxt2sKbFcyn"
      }
    },
    {
      "cell_type": "markdown",
      "source": [
        "### Recommend Model"
      ],
      "metadata": {
        "id": "tje6TXlTrwFq"
      }
    },
    {
      "cell_type": "code",
      "source": [
        "temp_score[temp_score['model']== 'Linear']['score'].values[0]"
      ],
      "metadata": {
        "colab": {
          "base_uri": "https://localhost:8080/"
        },
        "id": "znNMYk74xsjk",
        "outputId": "16d025df-28b8-4b83-b995-db2efcd02847"
      },
      "execution_count": null,
      "outputs": [
        {
          "output_type": "execute_result",
          "data": {
            "text/plain": [
              "0.31194916871692346"
            ]
          },
          "metadata": {},
          "execution_count": 67
        }
      ]
    },
    {
      "cell_type": "code",
      "source": [
        "models = ['Linear', 'Polynomial', 'Ridge', 'Lasso', 'ElasticNet']\n",
        "modelLength = len(models)"
      ],
      "metadata": {
        "id": "CvvihJmJcnTz"
      },
      "execution_count": null,
      "outputs": []
    },
    {
      "cell_type": "code",
      "source": [
        "best_model = ''\n",
        "max_score = 0\n",
        "\n",
        "for model in models:\n",
        "    score = temp_score['score'][temp_score['model'] == model].values[0]\n",
        "    if score > max_score:\n",
        "        max_score = score\n",
        "        best_model = model\n",
        "\n",
        "print('best_model : ', best_model, '\\nmax_acc : ', max_score)\n",
        "temp_score['recommended'][temp_score['model'] == best_model] = 1.0"
      ],
      "metadata": {
        "colab": {
          "base_uri": "https://localhost:8080/"
        },
        "id": "u5fy97-G0ZXH",
        "outputId": "7c773633-df63-451b-e71e-24cb6c2e2627"
      },
      "execution_count": null,
      "outputs": [
        {
          "output_type": "stream",
          "name": "stdout",
          "text": [
            "best_model :  Polynomial \n",
            "max_acc :  0.8213914658971256\n"
          ]
        }
      ]
    },
    {
      "cell_type": "markdown",
      "source": [
        "### Results"
      ],
      "metadata": {
        "id": "RWpUmynK7fwT"
      }
    },
    {
      "cell_type": "code",
      "source": [
        "temp_score"
      ],
      "metadata": {
        "colab": {
          "base_uri": "https://localhost:8080/",
          "height": 206
        },
        "id": "l9Djz95K7hzB",
        "outputId": "e209bc25-ab1c-4ae8-f628-1029be7c74f0"
      },
      "execution_count": null,
      "outputs": [
        {
          "output_type": "execute_result",
          "data": {
            "text/plain": [
              "        model      score    best_params    predict  recommended\n",
              "0      Linear   0.311949              0  14.381219            0\n",
              "1  Polynomial   0.821391              2  11.857250            1\n",
              "2       Ridge -16.782356  {'alpha': 20}  14.516086            0\n",
              "3       Lasso -16.773455  {'alpha': 20}  14.512242            0\n",
              "4  ElasticNet -16.777822  {'alpha': 20}  14.514162            0"
            ],
            "text/html": [
              "\n",
              "  <div id=\"df-8ffd2823-1a37-472b-8a25-1f4b7846d70a\">\n",
              "    <div class=\"colab-df-container\">\n",
              "      <div>\n",
              "<style scoped>\n",
              "    .dataframe tbody tr th:only-of-type {\n",
              "        vertical-align: middle;\n",
              "    }\n",
              "\n",
              "    .dataframe tbody tr th {\n",
              "        vertical-align: top;\n",
              "    }\n",
              "\n",
              "    .dataframe thead th {\n",
              "        text-align: right;\n",
              "    }\n",
              "</style>\n",
              "<table border=\"1\" class=\"dataframe\">\n",
              "  <thead>\n",
              "    <tr style=\"text-align: right;\">\n",
              "      <th></th>\n",
              "      <th>model</th>\n",
              "      <th>score</th>\n",
              "      <th>best_params</th>\n",
              "      <th>predict</th>\n",
              "      <th>recommended</th>\n",
              "    </tr>\n",
              "  </thead>\n",
              "  <tbody>\n",
              "    <tr>\n",
              "      <th>0</th>\n",
              "      <td>Linear</td>\n",
              "      <td>0.311949</td>\n",
              "      <td>0</td>\n",
              "      <td>14.381219</td>\n",
              "      <td>0</td>\n",
              "    </tr>\n",
              "    <tr>\n",
              "      <th>1</th>\n",
              "      <td>Polynomial</td>\n",
              "      <td>0.821391</td>\n",
              "      <td>2</td>\n",
              "      <td>11.857250</td>\n",
              "      <td>1</td>\n",
              "    </tr>\n",
              "    <tr>\n",
              "      <th>2</th>\n",
              "      <td>Ridge</td>\n",
              "      <td>-16.782356</td>\n",
              "      <td>{'alpha': 20}</td>\n",
              "      <td>14.516086</td>\n",
              "      <td>0</td>\n",
              "    </tr>\n",
              "    <tr>\n",
              "      <th>3</th>\n",
              "      <td>Lasso</td>\n",
              "      <td>-16.773455</td>\n",
              "      <td>{'alpha': 20}</td>\n",
              "      <td>14.512242</td>\n",
              "      <td>0</td>\n",
              "    </tr>\n",
              "    <tr>\n",
              "      <th>4</th>\n",
              "      <td>ElasticNet</td>\n",
              "      <td>-16.777822</td>\n",
              "      <td>{'alpha': 20}</td>\n",
              "      <td>14.514162</td>\n",
              "      <td>0</td>\n",
              "    </tr>\n",
              "  </tbody>\n",
              "</table>\n",
              "</div>\n",
              "      <button class=\"colab-df-convert\" onclick=\"convertToInteractive('df-8ffd2823-1a37-472b-8a25-1f4b7846d70a')\"\n",
              "              title=\"Convert this dataframe to an interactive table.\"\n",
              "              style=\"display:none;\">\n",
              "        \n",
              "  <svg xmlns=\"http://www.w3.org/2000/svg\" height=\"24px\"viewBox=\"0 0 24 24\"\n",
              "       width=\"24px\">\n",
              "    <path d=\"M0 0h24v24H0V0z\" fill=\"none\"/>\n",
              "    <path d=\"M18.56 5.44l.94 2.06.94-2.06 2.06-.94-2.06-.94-.94-2.06-.94 2.06-2.06.94zm-11 1L8.5 8.5l.94-2.06 2.06-.94-2.06-.94L8.5 2.5l-.94 2.06-2.06.94zm10 10l.94 2.06.94-2.06 2.06-.94-2.06-.94-.94-2.06-.94 2.06-2.06.94z\"/><path d=\"M17.41 7.96l-1.37-1.37c-.4-.4-.92-.59-1.43-.59-.52 0-1.04.2-1.43.59L10.3 9.45l-7.72 7.72c-.78.78-.78 2.05 0 2.83L4 21.41c.39.39.9.59 1.41.59.51 0 1.02-.2 1.41-.59l7.78-7.78 2.81-2.81c.8-.78.8-2.07 0-2.86zM5.41 20L4 18.59l7.72-7.72 1.47 1.35L5.41 20z\"/>\n",
              "  </svg>\n",
              "      </button>\n",
              "      \n",
              "  <style>\n",
              "    .colab-df-container {\n",
              "      display:flex;\n",
              "      flex-wrap:wrap;\n",
              "      gap: 12px;\n",
              "    }\n",
              "\n",
              "    .colab-df-convert {\n",
              "      background-color: #E8F0FE;\n",
              "      border: none;\n",
              "      border-radius: 50%;\n",
              "      cursor: pointer;\n",
              "      display: none;\n",
              "      fill: #1967D2;\n",
              "      height: 32px;\n",
              "      padding: 0 0 0 0;\n",
              "      width: 32px;\n",
              "    }\n",
              "\n",
              "    .colab-df-convert:hover {\n",
              "      background-color: #E2EBFA;\n",
              "      box-shadow: 0px 1px 2px rgba(60, 64, 67, 0.3), 0px 1px 3px 1px rgba(60, 64, 67, 0.15);\n",
              "      fill: #174EA6;\n",
              "    }\n",
              "\n",
              "    [theme=dark] .colab-df-convert {\n",
              "      background-color: #3B4455;\n",
              "      fill: #D2E3FC;\n",
              "    }\n",
              "\n",
              "    [theme=dark] .colab-df-convert:hover {\n",
              "      background-color: #434B5C;\n",
              "      box-shadow: 0px 1px 3px 1px rgba(0, 0, 0, 0.15);\n",
              "      filter: drop-shadow(0px 1px 2px rgba(0, 0, 0, 0.3));\n",
              "      fill: #FFFFFF;\n",
              "    }\n",
              "  </style>\n",
              "\n",
              "      <script>\n",
              "        const buttonEl =\n",
              "          document.querySelector('#df-8ffd2823-1a37-472b-8a25-1f4b7846d70a button.colab-df-convert');\n",
              "        buttonEl.style.display =\n",
              "          google.colab.kernel.accessAllowed ? 'block' : 'none';\n",
              "\n",
              "        async function convertToInteractive(key) {\n",
              "          const element = document.querySelector('#df-8ffd2823-1a37-472b-8a25-1f4b7846d70a');\n",
              "          const dataTable =\n",
              "            await google.colab.kernel.invokeFunction('convertToInteractive',\n",
              "                                                     [key], {});\n",
              "          if (!dataTable) return;\n",
              "\n",
              "          const docLinkHtml = 'Like what you see? Visit the ' +\n",
              "            '<a target=\"_blank\" href=https://colab.research.google.com/notebooks/data_table.ipynb>data table notebook</a>'\n",
              "            + ' to learn more about interactive tables.';\n",
              "          element.innerHTML = '';\n",
              "          dataTable['output_type'] = 'display_data';\n",
              "          await google.colab.output.renderOutput(dataTable, element);\n",
              "          const docLink = document.createElement('div');\n",
              "          docLink.innerHTML = docLinkHtml;\n",
              "          element.appendChild(docLink);\n",
              "        }\n",
              "      </script>\n",
              "    </div>\n",
              "  </div>\n",
              "  "
            ]
          },
          "metadata": {},
          "execution_count": 70
        }
      ]
    },
    {
      "cell_type": "code",
      "source": [
        "temp_score.to_csv(\"temp_score.csv\", index = False)"
      ],
      "metadata": {
        "id": "s3OiN6T19kc8"
      },
      "execution_count": null,
      "outputs": []
    },
    {
      "cell_type": "code",
      "source": [],
      "metadata": {
        "id": "5KEEhERp1cGk"
      },
      "execution_count": null,
      "outputs": []
    }
  ]
}