{
  "nbformat": 4,
  "nbformat_minor": 0,
  "metadata": {
    "colab": {
      "provenance": []
    },
    "kernelspec": {
      "name": "python3",
      "display_name": "Python 3"
    },
    "language_info": {
      "name": "python"
    }
  },
  "cells": [
    {
      "cell_type": "markdown",
      "source": [
        "# 수확량 예측"
      ],
      "metadata": {
        "id": "XyKfUF8RYVLG"
      }
    },
    {
      "cell_type": "code",
      "source": [
        "'''!sudo apt-get install -y fonts-nanum\n",
        "!sudo fc-cache -fv\n",
        "!rm ~/.cache/matplotlib -rf'''"
      ],
      "metadata": {
        "colab": {
          "base_uri": "https://localhost:8080/"
        },
        "id": "231ed9RyrP-Q",
        "outputId": "92c98346-996a-4366-a5f9-51fdc2be17bc"
      },
      "execution_count": null,
      "outputs": [
        {
          "output_type": "stream",
          "name": "stdout",
          "text": [
            "Reading package lists... Done\n",
            "Building dependency tree       \n",
            "Reading state information... Done\n",
            "The following package was automatically installed and is no longer required:\n",
            "  libnvidia-common-460\n",
            "Use 'sudo apt autoremove' to remove it.\n",
            "The following NEW packages will be installed:\n",
            "  fonts-nanum\n",
            "0 upgraded, 1 newly installed, 0 to remove and 11 not upgraded.\n",
            "Need to get 9,604 kB of archives.\n",
            "After this operation, 29.5 MB of additional disk space will be used.\n",
            "Get:1 http://archive.ubuntu.com/ubuntu bionic/universe amd64 fonts-nanum all 20170925-1 [9,604 kB]\n",
            "Fetched 9,604 kB in 1s (10.3 MB/s)\n",
            "debconf: unable to initialize frontend: Dialog\n",
            "debconf: (No usable dialog-like program is installed, so the dialog based frontend cannot be used. at /usr/share/perl5/Debconf/FrontEnd/Dialog.pm line 76, <> line 1.)\n",
            "debconf: falling back to frontend: Readline\n",
            "debconf: unable to initialize frontend: Readline\n",
            "debconf: (This frontend requires a controlling tty.)\n",
            "debconf: falling back to frontend: Teletype\n",
            "dpkg-preconfigure: unable to re-open stdin: \n",
            "Selecting previously unselected package fonts-nanum.\n",
            "(Reading database ... 124013 files and directories currently installed.)\n",
            "Preparing to unpack .../fonts-nanum_20170925-1_all.deb ...\n",
            "Unpacking fonts-nanum (20170925-1) ...\n",
            "Setting up fonts-nanum (20170925-1) ...\n",
            "Processing triggers for fontconfig (2.12.6-0ubuntu2) ...\n",
            "/usr/share/fonts: caching, new cache contents: 0 fonts, 1 dirs\n",
            "/usr/share/fonts/truetype: caching, new cache contents: 0 fonts, 3 dirs\n",
            "/usr/share/fonts/truetype/humor-sans: caching, new cache contents: 1 fonts, 0 dirs\n",
            "/usr/share/fonts/truetype/liberation: caching, new cache contents: 16 fonts, 0 dirs\n",
            "/usr/share/fonts/truetype/nanum: caching, new cache contents: 10 fonts, 0 dirs\n",
            "/usr/local/share/fonts: caching, new cache contents: 0 fonts, 0 dirs\n",
            "/root/.local/share/fonts: skipping, no such directory\n",
            "/root/.fonts: skipping, no such directory\n",
            "/var/cache/fontconfig: cleaning cache directory\n",
            "/root/.cache/fontconfig: not cleaning non-existent cache directory\n",
            "/root/.fontconfig: not cleaning non-existent cache directory\n",
            "fc-cache: succeeded\n"
          ]
        }
      ]
    },
    {
      "cell_type": "code",
      "source": [
        "'''import matplotlib.font_manager as fm\n",
        "\n",
        "# 설치된 폰트 출력\n",
        "font_list = [font.name for font in fm.fontManager.ttflist]\n",
        "font_list'''"
      ],
      "metadata": {
        "id": "tpt7J582rLHl"
      },
      "execution_count": null,
      "outputs": []
    },
    {
      "cell_type": "markdown",
      "metadata": {
        "id": "3a813305"
      },
      "source": [
        "## Machine Learning Model 만들기"
      ]
    },
    {
      "cell_type": "markdown",
      "metadata": {
        "id": "da6c1626"
      },
      "source": [
        "2월 부터 7월 까지 0시 부터 23시 까지  \n",
        "아무 시간대나 입력하면 예측 값 출력해주는 모델 생성  \n",
        "매일 자정에 모델 업데이트"
      ]
    },
    {
      "cell_type": "markdown",
      "source": [
        "처음부터 끝까지 사용해서 학습  \n",
        "바로 직전 조건을 토대로 다음 결과 예측  \n",
        "현재 + offset 시간  \n",
        "바로 다음 또는 특정 시점의 환경 예측  \n",
        "지금까지의 데이터를 토대로 수학 시점까지의 데이터 만들어 내서 만든 데이터 기반으로 수확량 예측  \n",
        "지금까지의 기조가 유지되면 얼만큼의 수확량이 나오는지 계산  \n",
        "\n",
        "\n",
        "** 특정 시점의 데이터 예측 후 부족한 점(습도, 온도)을 파악하여 팬, 급수펌프 가동"
      ],
      "metadata": {
        "id": "bsYTcDwsoi8n"
      }
    },
    {
      "cell_type": "markdown",
      "metadata": {
        "id": "f847fe38"
      },
      "source": [
        "* K-Nearest Neighbor\n",
        "* Decision Tree\n",
        "* Random Forest\n",
        "* Naive Bayse\n",
        "* SVM\n"
      ]
    },
    {
      "cell_type": "markdown",
      "source": [
        "### 머신러닝 패키지 호출"
      ],
      "metadata": {
        "id": "WT4n5Ka3ON8M"
      }
    },
    {
      "cell_type": "code",
      "execution_count": null,
      "metadata": {
        "id": "MnUSVVpJYTpP"
      },
      "outputs": [],
      "source": [
        "import numpy as np\n",
        "import pandas as pd\n",
        "import matplotlib.pyplot as plt\n",
        "import seaborn as sns\n",
        "import warnings\n",
        "\n",
        "import sklearn\n",
        "\n",
        "PATH = '/content/drive/MyDrive/[2022]GraduationProject/'\n",
        "\n",
        "warnings.filterwarnings(action='ignore')\n",
        "\n",
        "# 한글 깨짐 방지\n",
        "\n",
        "# unicode minus를 사용하지 않기 위한 설정 (minus 깨짐현상 방지)\n",
        "plt.rcParams['axes.unicode_minus'] = False\n",
        "plt.rc('font', family='NanumBarunGothic') "
      ]
    },
    {
      "cell_type": "markdown",
      "source": [
        "#### 머신러닝 모델 패키지 호출"
      ],
      "metadata": {
        "id": "0gJ5WTADOymm"
      }
    },
    {
      "cell_type": "code",
      "source": [
        "import sklearn\n",
        "from sklearn.neighbors import KNeighborsClassifier\n",
        "from sklearn import tree\n",
        "from sklearn.metrics import accuracy_score\n",
        "from sklearn.ensemble import RandomForestClassifier\n",
        "from sklearn.naive_bayes import GaussianNB\n",
        "from sklearn.svm import SVC\n",
        "from sklearn.model_selection import GridSearchCV\n",
        "\n",
        "from sklearn.model_selection import train_test_split\n",
        "\n",
        "from datetime import datetime"
      ],
      "metadata": {
        "id": "LngH7HKROR7F"
      },
      "execution_count": null,
      "outputs": []
    },
    {
      "cell_type": "code",
      "source": [
        "file_name = 'yield.csv'\n",
        "url = PATH + file_name"
      ],
      "metadata": {
        "id": "FQfd1hXLrjye"
      },
      "execution_count": null,
      "outputs": []
    },
    {
      "cell_type": "code",
      "source": [
        "origin_data = pd.read_csv(url)\n",
        "origin_data.info()"
      ],
      "metadata": {
        "colab": {
          "base_uri": "https://localhost:8080/"
        },
        "id": "_sRQznDaeNLW",
        "outputId": "734affca-bcf8-4390-903d-ce2e5dfa4a08"
      },
      "execution_count": null,
      "outputs": [
        {
          "output_type": "stream",
          "name": "stdout",
          "text": [
            "<class 'pandas.core.frame.DataFrame'>\n",
            "RangeIndex: 432 entries, 0 to 431\n",
            "Data columns (total 11 columns):\n",
            " #   Column      Non-Null Count  Dtype  \n",
            "---  ------      --------------  -----  \n",
            " 0   조사일         432 non-null    object \n",
            " 1   주차          408 non-null    object \n",
            " 2   초장          432 non-null    float64\n",
            " 3   엽장          384 non-null    float64\n",
            " 4   엽폭          384 non-null    float64\n",
            " 5   엽병장         408 non-null    float64\n",
            " 6   엽수          312 non-null    float64\n",
            " 7   관부직경        408 non-null    float64\n",
            " 8   화방 꽃수(소화수)  216 non-null    float64\n",
            " 9   착과수         336 non-null    float64\n",
            " 10  최종화방차수      240 non-null    float64\n",
            "dtypes: float64(9), object(2)\n",
            "memory usage: 37.2+ KB\n"
          ]
        }
      ]
    },
    {
      "cell_type": "code",
      "source": [
        "origin_data.head()"
      ],
      "metadata": {
        "colab": {
          "base_uri": "https://localhost:8080/",
          "height": 354
        },
        "id": "RltXOr4a4DCH",
        "outputId": "2ccbe8c4-55c4-4bc3-89a5-22cec107d274"
      },
      "execution_count": null,
      "outputs": [
        {
          "output_type": "execute_result",
          "data": {
            "text/plain": [
              "          조사일    주차    초장   엽장   엽폭   엽병장   엽수  관부직경  화방 꽃수(소화수)  착과수  최종화방차수\n",
              "0  2021-01-28  21주차  32.0  7.0  6.0  21.0  9.0  20.0         1.0  2.0     2.0\n",
              "1  2021-01-28  21주차  32.0  7.0  6.0  21.0  9.0  20.0         1.0  2.0     2.0\n",
              "2  2021-01-28  21주차  32.0  7.0  6.0  21.0  9.0  20.0         1.0  2.0     2.0\n",
              "3  2021-01-28  21주차  32.0  7.0  6.0  21.0  9.0  20.0         1.0  2.0     2.0\n",
              "4  2021-01-28  21주차  32.0  7.0  6.0  21.0  9.0  20.0         1.0  2.0     2.0"
            ],
            "text/html": [
              "\n",
              "  <div id=\"df-cac30121-c1d8-4fe7-be98-92ef71376a86\">\n",
              "    <div class=\"colab-df-container\">\n",
              "      <div>\n",
              "<style scoped>\n",
              "    .dataframe tbody tr th:only-of-type {\n",
              "        vertical-align: middle;\n",
              "    }\n",
              "\n",
              "    .dataframe tbody tr th {\n",
              "        vertical-align: top;\n",
              "    }\n",
              "\n",
              "    .dataframe thead th {\n",
              "        text-align: right;\n",
              "    }\n",
              "</style>\n",
              "<table border=\"1\" class=\"dataframe\">\n",
              "  <thead>\n",
              "    <tr style=\"text-align: right;\">\n",
              "      <th></th>\n",
              "      <th>조사일</th>\n",
              "      <th>주차</th>\n",
              "      <th>초장</th>\n",
              "      <th>엽장</th>\n",
              "      <th>엽폭</th>\n",
              "      <th>엽병장</th>\n",
              "      <th>엽수</th>\n",
              "      <th>관부직경</th>\n",
              "      <th>화방 꽃수(소화수)</th>\n",
              "      <th>착과수</th>\n",
              "      <th>최종화방차수</th>\n",
              "    </tr>\n",
              "  </thead>\n",
              "  <tbody>\n",
              "    <tr>\n",
              "      <th>0</th>\n",
              "      <td>2021-01-28</td>\n",
              "      <td>21주차</td>\n",
              "      <td>32.0</td>\n",
              "      <td>7.0</td>\n",
              "      <td>6.0</td>\n",
              "      <td>21.0</td>\n",
              "      <td>9.0</td>\n",
              "      <td>20.0</td>\n",
              "      <td>1.0</td>\n",
              "      <td>2.0</td>\n",
              "      <td>2.0</td>\n",
              "    </tr>\n",
              "    <tr>\n",
              "      <th>1</th>\n",
              "      <td>2021-01-28</td>\n",
              "      <td>21주차</td>\n",
              "      <td>32.0</td>\n",
              "      <td>7.0</td>\n",
              "      <td>6.0</td>\n",
              "      <td>21.0</td>\n",
              "      <td>9.0</td>\n",
              "      <td>20.0</td>\n",
              "      <td>1.0</td>\n",
              "      <td>2.0</td>\n",
              "      <td>2.0</td>\n",
              "    </tr>\n",
              "    <tr>\n",
              "      <th>2</th>\n",
              "      <td>2021-01-28</td>\n",
              "      <td>21주차</td>\n",
              "      <td>32.0</td>\n",
              "      <td>7.0</td>\n",
              "      <td>6.0</td>\n",
              "      <td>21.0</td>\n",
              "      <td>9.0</td>\n",
              "      <td>20.0</td>\n",
              "      <td>1.0</td>\n",
              "      <td>2.0</td>\n",
              "      <td>2.0</td>\n",
              "    </tr>\n",
              "    <tr>\n",
              "      <th>3</th>\n",
              "      <td>2021-01-28</td>\n",
              "      <td>21주차</td>\n",
              "      <td>32.0</td>\n",
              "      <td>7.0</td>\n",
              "      <td>6.0</td>\n",
              "      <td>21.0</td>\n",
              "      <td>9.0</td>\n",
              "      <td>20.0</td>\n",
              "      <td>1.0</td>\n",
              "      <td>2.0</td>\n",
              "      <td>2.0</td>\n",
              "    </tr>\n",
              "    <tr>\n",
              "      <th>4</th>\n",
              "      <td>2021-01-28</td>\n",
              "      <td>21주차</td>\n",
              "      <td>32.0</td>\n",
              "      <td>7.0</td>\n",
              "      <td>6.0</td>\n",
              "      <td>21.0</td>\n",
              "      <td>9.0</td>\n",
              "      <td>20.0</td>\n",
              "      <td>1.0</td>\n",
              "      <td>2.0</td>\n",
              "      <td>2.0</td>\n",
              "    </tr>\n",
              "  </tbody>\n",
              "</table>\n",
              "</div>\n",
              "      <button class=\"colab-df-convert\" onclick=\"convertToInteractive('df-cac30121-c1d8-4fe7-be98-92ef71376a86')\"\n",
              "              title=\"Convert this dataframe to an interactive table.\"\n",
              "              style=\"display:none;\">\n",
              "        \n",
              "  <svg xmlns=\"http://www.w3.org/2000/svg\" height=\"24px\"viewBox=\"0 0 24 24\"\n",
              "       width=\"24px\">\n",
              "    <path d=\"M0 0h24v24H0V0z\" fill=\"none\"/>\n",
              "    <path d=\"M18.56 5.44l.94 2.06.94-2.06 2.06-.94-2.06-.94-.94-2.06-.94 2.06-2.06.94zm-11 1L8.5 8.5l.94-2.06 2.06-.94-2.06-.94L8.5 2.5l-.94 2.06-2.06.94zm10 10l.94 2.06.94-2.06 2.06-.94-2.06-.94-.94-2.06-.94 2.06-2.06.94z\"/><path d=\"M17.41 7.96l-1.37-1.37c-.4-.4-.92-.59-1.43-.59-.52 0-1.04.2-1.43.59L10.3 9.45l-7.72 7.72c-.78.78-.78 2.05 0 2.83L4 21.41c.39.39.9.59 1.41.59.51 0 1.02-.2 1.41-.59l7.78-7.78 2.81-2.81c.8-.78.8-2.07 0-2.86zM5.41 20L4 18.59l7.72-7.72 1.47 1.35L5.41 20z\"/>\n",
              "  </svg>\n",
              "      </button>\n",
              "      \n",
              "  <style>\n",
              "    .colab-df-container {\n",
              "      display:flex;\n",
              "      flex-wrap:wrap;\n",
              "      gap: 12px;\n",
              "    }\n",
              "\n",
              "    .colab-df-convert {\n",
              "      background-color: #E8F0FE;\n",
              "      border: none;\n",
              "      border-radius: 50%;\n",
              "      cursor: pointer;\n",
              "      display: none;\n",
              "      fill: #1967D2;\n",
              "      height: 32px;\n",
              "      padding: 0 0 0 0;\n",
              "      width: 32px;\n",
              "    }\n",
              "\n",
              "    .colab-df-convert:hover {\n",
              "      background-color: #E2EBFA;\n",
              "      box-shadow: 0px 1px 2px rgba(60, 64, 67, 0.3), 0px 1px 3px 1px rgba(60, 64, 67, 0.15);\n",
              "      fill: #174EA6;\n",
              "    }\n",
              "\n",
              "    [theme=dark] .colab-df-convert {\n",
              "      background-color: #3B4455;\n",
              "      fill: #D2E3FC;\n",
              "    }\n",
              "\n",
              "    [theme=dark] .colab-df-convert:hover {\n",
              "      background-color: #434B5C;\n",
              "      box-shadow: 0px 1px 3px 1px rgba(0, 0, 0, 0.15);\n",
              "      filter: drop-shadow(0px 1px 2px rgba(0, 0, 0, 0.3));\n",
              "      fill: #FFFFFF;\n",
              "    }\n",
              "  </style>\n",
              "\n",
              "      <script>\n",
              "        const buttonEl =\n",
              "          document.querySelector('#df-cac30121-c1d8-4fe7-be98-92ef71376a86 button.colab-df-convert');\n",
              "        buttonEl.style.display =\n",
              "          google.colab.kernel.accessAllowed ? 'block' : 'none';\n",
              "\n",
              "        async function convertToInteractive(key) {\n",
              "          const element = document.querySelector('#df-cac30121-c1d8-4fe7-be98-92ef71376a86');\n",
              "          const dataTable =\n",
              "            await google.colab.kernel.invokeFunction('convertToInteractive',\n",
              "                                                     [key], {});\n",
              "          if (!dataTable) return;\n",
              "\n",
              "          const docLinkHtml = 'Like what you see? Visit the ' +\n",
              "            '<a target=\"_blank\" href=https://colab.research.google.com/notebooks/data_table.ipynb>data table notebook</a>'\n",
              "            + ' to learn more about interactive tables.';\n",
              "          element.innerHTML = '';\n",
              "          dataTable['output_type'] = 'display_data';\n",
              "          await google.colab.output.renderOutput(dataTable, element);\n",
              "          const docLink = document.createElement('div');\n",
              "          docLink.innerHTML = docLinkHtml;\n",
              "          element.appendChild(docLink);\n",
              "        }\n",
              "      </script>\n",
              "    </div>\n",
              "  </div>\n",
              "  "
            ]
          },
          "metadata": {},
          "execution_count": 5
        }
      ]
    },
    {
      "cell_type": "code",
      "source": [
        "origin_data = origin_data.drop(['조사일', '주차'], axis=1)\n",
        "origin_data = origin_data.fillna(0)\n",
        "origin_data.describe()"
      ],
      "metadata": {
        "colab": {
          "base_uri": "https://localhost:8080/",
          "height": 382
        },
        "id": "UdR4ntP7SJPz",
        "outputId": "9942b844-266a-4818-d4e7-311e9fc21ea6"
      },
      "execution_count": null,
      "outputs": [
        {
          "output_type": "execute_result",
          "data": {
            "text/plain": [
              "               초장          엽장          엽폭         엽병장          엽수        관부직경  \\\n",
              "count  432.000000  432.000000  432.000000  432.000000  432.000000  432.000000   \n",
              "mean    32.055556    7.166667    6.333333   14.944444    7.444444   21.666667   \n",
              "std      2.918326    2.816919    2.519529    5.022147    4.769068    5.483576   \n",
              "min     27.000000    0.000000    0.000000    0.000000    0.000000    0.000000   \n",
              "25%     30.000000    7.000000    6.000000   12.000000    0.000000   21.000000   \n",
              "50%     32.000000    7.500000    6.500000   15.000000    9.500000   23.000000   \n",
              "75%     33.000000    9.000000    8.000000   18.000000   11.000000   25.000000   \n",
              "max     38.000000   11.000000   10.000000   22.000000   13.000000   25.000000   \n",
              "\n",
              "       화방 꽃수(소화수)         착과수      최종화방차수  \n",
              "count  432.000000  432.000000  432.000000  \n",
              "mean     0.777778    2.777778    2.388889  \n",
              "std      1.031597    2.349244    2.339347  \n",
              "min      0.000000    0.000000    0.000000  \n",
              "25%      0.000000    0.000000    0.000000  \n",
              "50%      0.000000    2.500000    2.500000  \n",
              "75%      1.000000    5.000000    5.000000  \n",
              "max      3.000000    6.000000    6.000000  "
            ],
            "text/html": [
              "\n",
              "  <div id=\"df-79c88f16-d91e-441a-b325-a6b070cf2065\">\n",
              "    <div class=\"colab-df-container\">\n",
              "      <div>\n",
              "<style scoped>\n",
              "    .dataframe tbody tr th:only-of-type {\n",
              "        vertical-align: middle;\n",
              "    }\n",
              "\n",
              "    .dataframe tbody tr th {\n",
              "        vertical-align: top;\n",
              "    }\n",
              "\n",
              "    .dataframe thead th {\n",
              "        text-align: right;\n",
              "    }\n",
              "</style>\n",
              "<table border=\"1\" class=\"dataframe\">\n",
              "  <thead>\n",
              "    <tr style=\"text-align: right;\">\n",
              "      <th></th>\n",
              "      <th>초장</th>\n",
              "      <th>엽장</th>\n",
              "      <th>엽폭</th>\n",
              "      <th>엽병장</th>\n",
              "      <th>엽수</th>\n",
              "      <th>관부직경</th>\n",
              "      <th>화방 꽃수(소화수)</th>\n",
              "      <th>착과수</th>\n",
              "      <th>최종화방차수</th>\n",
              "    </tr>\n",
              "  </thead>\n",
              "  <tbody>\n",
              "    <tr>\n",
              "      <th>count</th>\n",
              "      <td>432.000000</td>\n",
              "      <td>432.000000</td>\n",
              "      <td>432.000000</td>\n",
              "      <td>432.000000</td>\n",
              "      <td>432.000000</td>\n",
              "      <td>432.000000</td>\n",
              "      <td>432.000000</td>\n",
              "      <td>432.000000</td>\n",
              "      <td>432.000000</td>\n",
              "    </tr>\n",
              "    <tr>\n",
              "      <th>mean</th>\n",
              "      <td>32.055556</td>\n",
              "      <td>7.166667</td>\n",
              "      <td>6.333333</td>\n",
              "      <td>14.944444</td>\n",
              "      <td>7.444444</td>\n",
              "      <td>21.666667</td>\n",
              "      <td>0.777778</td>\n",
              "      <td>2.777778</td>\n",
              "      <td>2.388889</td>\n",
              "    </tr>\n",
              "    <tr>\n",
              "      <th>std</th>\n",
              "      <td>2.918326</td>\n",
              "      <td>2.816919</td>\n",
              "      <td>2.519529</td>\n",
              "      <td>5.022147</td>\n",
              "      <td>4.769068</td>\n",
              "      <td>5.483576</td>\n",
              "      <td>1.031597</td>\n",
              "      <td>2.349244</td>\n",
              "      <td>2.339347</td>\n",
              "    </tr>\n",
              "    <tr>\n",
              "      <th>min</th>\n",
              "      <td>27.000000</td>\n",
              "      <td>0.000000</td>\n",
              "      <td>0.000000</td>\n",
              "      <td>0.000000</td>\n",
              "      <td>0.000000</td>\n",
              "      <td>0.000000</td>\n",
              "      <td>0.000000</td>\n",
              "      <td>0.000000</td>\n",
              "      <td>0.000000</td>\n",
              "    </tr>\n",
              "    <tr>\n",
              "      <th>25%</th>\n",
              "      <td>30.000000</td>\n",
              "      <td>7.000000</td>\n",
              "      <td>6.000000</td>\n",
              "      <td>12.000000</td>\n",
              "      <td>0.000000</td>\n",
              "      <td>21.000000</td>\n",
              "      <td>0.000000</td>\n",
              "      <td>0.000000</td>\n",
              "      <td>0.000000</td>\n",
              "    </tr>\n",
              "    <tr>\n",
              "      <th>50%</th>\n",
              "      <td>32.000000</td>\n",
              "      <td>7.500000</td>\n",
              "      <td>6.500000</td>\n",
              "      <td>15.000000</td>\n",
              "      <td>9.500000</td>\n",
              "      <td>23.000000</td>\n",
              "      <td>0.000000</td>\n",
              "      <td>2.500000</td>\n",
              "      <td>2.500000</td>\n",
              "    </tr>\n",
              "    <tr>\n",
              "      <th>75%</th>\n",
              "      <td>33.000000</td>\n",
              "      <td>9.000000</td>\n",
              "      <td>8.000000</td>\n",
              "      <td>18.000000</td>\n",
              "      <td>11.000000</td>\n",
              "      <td>25.000000</td>\n",
              "      <td>1.000000</td>\n",
              "      <td>5.000000</td>\n",
              "      <td>5.000000</td>\n",
              "    </tr>\n",
              "    <tr>\n",
              "      <th>max</th>\n",
              "      <td>38.000000</td>\n",
              "      <td>11.000000</td>\n",
              "      <td>10.000000</td>\n",
              "      <td>22.000000</td>\n",
              "      <td>13.000000</td>\n",
              "      <td>25.000000</td>\n",
              "      <td>3.000000</td>\n",
              "      <td>6.000000</td>\n",
              "      <td>6.000000</td>\n",
              "    </tr>\n",
              "  </tbody>\n",
              "</table>\n",
              "</div>\n",
              "      <button class=\"colab-df-convert\" onclick=\"convertToInteractive('df-79c88f16-d91e-441a-b325-a6b070cf2065')\"\n",
              "              title=\"Convert this dataframe to an interactive table.\"\n",
              "              style=\"display:none;\">\n",
              "        \n",
              "  <svg xmlns=\"http://www.w3.org/2000/svg\" height=\"24px\"viewBox=\"0 0 24 24\"\n",
              "       width=\"24px\">\n",
              "    <path d=\"M0 0h24v24H0V0z\" fill=\"none\"/>\n",
              "    <path d=\"M18.56 5.44l.94 2.06.94-2.06 2.06-.94-2.06-.94-.94-2.06-.94 2.06-2.06.94zm-11 1L8.5 8.5l.94-2.06 2.06-.94-2.06-.94L8.5 2.5l-.94 2.06-2.06.94zm10 10l.94 2.06.94-2.06 2.06-.94-2.06-.94-.94-2.06-.94 2.06-2.06.94z\"/><path d=\"M17.41 7.96l-1.37-1.37c-.4-.4-.92-.59-1.43-.59-.52 0-1.04.2-1.43.59L10.3 9.45l-7.72 7.72c-.78.78-.78 2.05 0 2.83L4 21.41c.39.39.9.59 1.41.59.51 0 1.02-.2 1.41-.59l7.78-7.78 2.81-2.81c.8-.78.8-2.07 0-2.86zM5.41 20L4 18.59l7.72-7.72 1.47 1.35L5.41 20z\"/>\n",
              "  </svg>\n",
              "      </button>\n",
              "      \n",
              "  <style>\n",
              "    .colab-df-container {\n",
              "      display:flex;\n",
              "      flex-wrap:wrap;\n",
              "      gap: 12px;\n",
              "    }\n",
              "\n",
              "    .colab-df-convert {\n",
              "      background-color: #E8F0FE;\n",
              "      border: none;\n",
              "      border-radius: 50%;\n",
              "      cursor: pointer;\n",
              "      display: none;\n",
              "      fill: #1967D2;\n",
              "      height: 32px;\n",
              "      padding: 0 0 0 0;\n",
              "      width: 32px;\n",
              "    }\n",
              "\n",
              "    .colab-df-convert:hover {\n",
              "      background-color: #E2EBFA;\n",
              "      box-shadow: 0px 1px 2px rgba(60, 64, 67, 0.3), 0px 1px 3px 1px rgba(60, 64, 67, 0.15);\n",
              "      fill: #174EA6;\n",
              "    }\n",
              "\n",
              "    [theme=dark] .colab-df-convert {\n",
              "      background-color: #3B4455;\n",
              "      fill: #D2E3FC;\n",
              "    }\n",
              "\n",
              "    [theme=dark] .colab-df-convert:hover {\n",
              "      background-color: #434B5C;\n",
              "      box-shadow: 0px 1px 3px 1px rgba(0, 0, 0, 0.15);\n",
              "      filter: drop-shadow(0px 1px 2px rgba(0, 0, 0, 0.3));\n",
              "      fill: #FFFFFF;\n",
              "    }\n",
              "  </style>\n",
              "\n",
              "      <script>\n",
              "        const buttonEl =\n",
              "          document.querySelector('#df-79c88f16-d91e-441a-b325-a6b070cf2065 button.colab-df-convert');\n",
              "        buttonEl.style.display =\n",
              "          google.colab.kernel.accessAllowed ? 'block' : 'none';\n",
              "\n",
              "        async function convertToInteractive(key) {\n",
              "          const element = document.querySelector('#df-79c88f16-d91e-441a-b325-a6b070cf2065');\n",
              "          const dataTable =\n",
              "            await google.colab.kernel.invokeFunction('convertToInteractive',\n",
              "                                                     [key], {});\n",
              "          if (!dataTable) return;\n",
              "\n",
              "          const docLinkHtml = 'Like what you see? Visit the ' +\n",
              "            '<a target=\"_blank\" href=https://colab.research.google.com/notebooks/data_table.ipynb>data table notebook</a>'\n",
              "            + ' to learn more about interactive tables.';\n",
              "          element.innerHTML = '';\n",
              "          dataTable['output_type'] = 'display_data';\n",
              "          await google.colab.output.renderOutput(dataTable, element);\n",
              "          const docLink = document.createElement('div');\n",
              "          docLink.innerHTML = docLinkHtml;\n",
              "          element.appendChild(docLink);\n",
              "        }\n",
              "      </script>\n",
              "    </div>\n",
              "  </div>\n",
              "  "
            ]
          },
          "metadata": {},
          "execution_count": 6
        }
      ]
    },
    {
      "cell_type": "code",
      "source": [
        "origin_data.info()"
      ],
      "metadata": {
        "colab": {
          "base_uri": "https://localhost:8080/"
        },
        "id": "VeBDPYmXTVr3",
        "outputId": "311ceef8-7c3d-4e4c-c85f-4c5ff8ab790c"
      },
      "execution_count": null,
      "outputs": [
        {
          "output_type": "stream",
          "name": "stdout",
          "text": [
            "<class 'pandas.core.frame.DataFrame'>\n",
            "RangeIndex: 432 entries, 0 to 431\n",
            "Data columns (total 9 columns):\n",
            " #   Column      Non-Null Count  Dtype  \n",
            "---  ------      --------------  -----  \n",
            " 0   초장          432 non-null    float64\n",
            " 1   엽장          432 non-null    float64\n",
            " 2   엽폭          432 non-null    float64\n",
            " 3   엽병장         432 non-null    float64\n",
            " 4   엽수          432 non-null    float64\n",
            " 5   관부직경        432 non-null    float64\n",
            " 6   화방 꽃수(소화수)  432 non-null    float64\n",
            " 7   착과수         432 non-null    float64\n",
            " 8   최종화방차수      432 non-null    float64\n",
            "dtypes: float64(9)\n",
            "memory usage: 30.5 KB\n"
          ]
        }
      ]
    },
    {
      "cell_type": "code",
      "source": [
        "df_date = origin_data.groupby('착과수').mean()\n",
        "df_date"
      ],
      "metadata": {
        "colab": {
          "base_uri": "https://localhost:8080/",
          "height": 344
        },
        "id": "0ttF6Ad0942F",
        "outputId": "b44c86b5-7c3a-4346-9a01-8efe2d753984"
      },
      "execution_count": null,
      "outputs": [
        {
          "output_type": "execute_result",
          "data": {
            "text/plain": [
              "       초장    엽장    엽폭   엽병장     엽수  관부직경  화방 꽃수(소화수)  최종화방차수\n",
              "착과수                                                         \n",
              "0.0  33.6  5.80  6.80  18.2   7.00  24.0         0.6    4.20\n",
              "1.0  32.0  9.00  4.00   8.5   6.00  25.0         0.0    5.00\n",
              "2.0  32.0  7.00  6.00  19.0   9.00  20.5         1.5    1.00\n",
              "3.0  31.0  8.00  7.00  15.0   9.00  22.5         0.5    0.00\n",
              "4.0  38.0  9.00  7.00  20.0  10.00   0.0         2.0    0.00\n",
              "5.0  29.5  7.00  7.00  12.5   5.00  23.0         0.5    1.50\n",
              "6.0  30.5  7.25  6.25  12.0   7.75  22.0         1.0    1.75"
            ],
            "text/html": [
              "\n",
              "  <div id=\"df-32ba0bdf-c6a5-4f87-be2c-3ee77d08ac43\">\n",
              "    <div class=\"colab-df-container\">\n",
              "      <div>\n",
              "<style scoped>\n",
              "    .dataframe tbody tr th:only-of-type {\n",
              "        vertical-align: middle;\n",
              "    }\n",
              "\n",
              "    .dataframe tbody tr th {\n",
              "        vertical-align: top;\n",
              "    }\n",
              "\n",
              "    .dataframe thead th {\n",
              "        text-align: right;\n",
              "    }\n",
              "</style>\n",
              "<table border=\"1\" class=\"dataframe\">\n",
              "  <thead>\n",
              "    <tr style=\"text-align: right;\">\n",
              "      <th></th>\n",
              "      <th>초장</th>\n",
              "      <th>엽장</th>\n",
              "      <th>엽폭</th>\n",
              "      <th>엽병장</th>\n",
              "      <th>엽수</th>\n",
              "      <th>관부직경</th>\n",
              "      <th>화방 꽃수(소화수)</th>\n",
              "      <th>최종화방차수</th>\n",
              "    </tr>\n",
              "    <tr>\n",
              "      <th>착과수</th>\n",
              "      <th></th>\n",
              "      <th></th>\n",
              "      <th></th>\n",
              "      <th></th>\n",
              "      <th></th>\n",
              "      <th></th>\n",
              "      <th></th>\n",
              "      <th></th>\n",
              "    </tr>\n",
              "  </thead>\n",
              "  <tbody>\n",
              "    <tr>\n",
              "      <th>0.0</th>\n",
              "      <td>33.6</td>\n",
              "      <td>5.80</td>\n",
              "      <td>6.80</td>\n",
              "      <td>18.2</td>\n",
              "      <td>7.00</td>\n",
              "      <td>24.0</td>\n",
              "      <td>0.6</td>\n",
              "      <td>4.20</td>\n",
              "    </tr>\n",
              "    <tr>\n",
              "      <th>1.0</th>\n",
              "      <td>32.0</td>\n",
              "      <td>9.00</td>\n",
              "      <td>4.00</td>\n",
              "      <td>8.5</td>\n",
              "      <td>6.00</td>\n",
              "      <td>25.0</td>\n",
              "      <td>0.0</td>\n",
              "      <td>5.00</td>\n",
              "    </tr>\n",
              "    <tr>\n",
              "      <th>2.0</th>\n",
              "      <td>32.0</td>\n",
              "      <td>7.00</td>\n",
              "      <td>6.00</td>\n",
              "      <td>19.0</td>\n",
              "      <td>9.00</td>\n",
              "      <td>20.5</td>\n",
              "      <td>1.5</td>\n",
              "      <td>1.00</td>\n",
              "    </tr>\n",
              "    <tr>\n",
              "      <th>3.0</th>\n",
              "      <td>31.0</td>\n",
              "      <td>8.00</td>\n",
              "      <td>7.00</td>\n",
              "      <td>15.0</td>\n",
              "      <td>9.00</td>\n",
              "      <td>22.5</td>\n",
              "      <td>0.5</td>\n",
              "      <td>0.00</td>\n",
              "    </tr>\n",
              "    <tr>\n",
              "      <th>4.0</th>\n",
              "      <td>38.0</td>\n",
              "      <td>9.00</td>\n",
              "      <td>7.00</td>\n",
              "      <td>20.0</td>\n",
              "      <td>10.00</td>\n",
              "      <td>0.0</td>\n",
              "      <td>2.0</td>\n",
              "      <td>0.00</td>\n",
              "    </tr>\n",
              "    <tr>\n",
              "      <th>5.0</th>\n",
              "      <td>29.5</td>\n",
              "      <td>7.00</td>\n",
              "      <td>7.00</td>\n",
              "      <td>12.5</td>\n",
              "      <td>5.00</td>\n",
              "      <td>23.0</td>\n",
              "      <td>0.5</td>\n",
              "      <td>1.50</td>\n",
              "    </tr>\n",
              "    <tr>\n",
              "      <th>6.0</th>\n",
              "      <td>30.5</td>\n",
              "      <td>7.25</td>\n",
              "      <td>6.25</td>\n",
              "      <td>12.0</td>\n",
              "      <td>7.75</td>\n",
              "      <td>22.0</td>\n",
              "      <td>1.0</td>\n",
              "      <td>1.75</td>\n",
              "    </tr>\n",
              "  </tbody>\n",
              "</table>\n",
              "</div>\n",
              "      <button class=\"colab-df-convert\" onclick=\"convertToInteractive('df-32ba0bdf-c6a5-4f87-be2c-3ee77d08ac43')\"\n",
              "              title=\"Convert this dataframe to an interactive table.\"\n",
              "              style=\"display:none;\">\n",
              "        \n",
              "  <svg xmlns=\"http://www.w3.org/2000/svg\" height=\"24px\"viewBox=\"0 0 24 24\"\n",
              "       width=\"24px\">\n",
              "    <path d=\"M0 0h24v24H0V0z\" fill=\"none\"/>\n",
              "    <path d=\"M18.56 5.44l.94 2.06.94-2.06 2.06-.94-2.06-.94-.94-2.06-.94 2.06-2.06.94zm-11 1L8.5 8.5l.94-2.06 2.06-.94-2.06-.94L8.5 2.5l-.94 2.06-2.06.94zm10 10l.94 2.06.94-2.06 2.06-.94-2.06-.94-.94-2.06-.94 2.06-2.06.94z\"/><path d=\"M17.41 7.96l-1.37-1.37c-.4-.4-.92-.59-1.43-.59-.52 0-1.04.2-1.43.59L10.3 9.45l-7.72 7.72c-.78.78-.78 2.05 0 2.83L4 21.41c.39.39.9.59 1.41.59.51 0 1.02-.2 1.41-.59l7.78-7.78 2.81-2.81c.8-.78.8-2.07 0-2.86zM5.41 20L4 18.59l7.72-7.72 1.47 1.35L5.41 20z\"/>\n",
              "  </svg>\n",
              "      </button>\n",
              "      \n",
              "  <style>\n",
              "    .colab-df-container {\n",
              "      display:flex;\n",
              "      flex-wrap:wrap;\n",
              "      gap: 12px;\n",
              "    }\n",
              "\n",
              "    .colab-df-convert {\n",
              "      background-color: #E8F0FE;\n",
              "      border: none;\n",
              "      border-radius: 50%;\n",
              "      cursor: pointer;\n",
              "      display: none;\n",
              "      fill: #1967D2;\n",
              "      height: 32px;\n",
              "      padding: 0 0 0 0;\n",
              "      width: 32px;\n",
              "    }\n",
              "\n",
              "    .colab-df-convert:hover {\n",
              "      background-color: #E2EBFA;\n",
              "      box-shadow: 0px 1px 2px rgba(60, 64, 67, 0.3), 0px 1px 3px 1px rgba(60, 64, 67, 0.15);\n",
              "      fill: #174EA6;\n",
              "    }\n",
              "\n",
              "    [theme=dark] .colab-df-convert {\n",
              "      background-color: #3B4455;\n",
              "      fill: #D2E3FC;\n",
              "    }\n",
              "\n",
              "    [theme=dark] .colab-df-convert:hover {\n",
              "      background-color: #434B5C;\n",
              "      box-shadow: 0px 1px 3px 1px rgba(0, 0, 0, 0.15);\n",
              "      filter: drop-shadow(0px 1px 2px rgba(0, 0, 0, 0.3));\n",
              "      fill: #FFFFFF;\n",
              "    }\n",
              "  </style>\n",
              "\n",
              "      <script>\n",
              "        const buttonEl =\n",
              "          document.querySelector('#df-32ba0bdf-c6a5-4f87-be2c-3ee77d08ac43 button.colab-df-convert');\n",
              "        buttonEl.style.display =\n",
              "          google.colab.kernel.accessAllowed ? 'block' : 'none';\n",
              "\n",
              "        async function convertToInteractive(key) {\n",
              "          const element = document.querySelector('#df-32ba0bdf-c6a5-4f87-be2c-3ee77d08ac43');\n",
              "          const dataTable =\n",
              "            await google.colab.kernel.invokeFunction('convertToInteractive',\n",
              "                                                     [key], {});\n",
              "          if (!dataTable) return;\n",
              "\n",
              "          const docLinkHtml = 'Like what you see? Visit the ' +\n",
              "            '<a target=\"_blank\" href=https://colab.research.google.com/notebooks/data_table.ipynb>data table notebook</a>'\n",
              "            + ' to learn more about interactive tables.';\n",
              "          element.innerHTML = '';\n",
              "          dataTable['output_type'] = 'display_data';\n",
              "          await google.colab.output.renderOutput(dataTable, element);\n",
              "          const docLink = document.createElement('div');\n",
              "          docLink.innerHTML = docLinkHtml;\n",
              "          element.appendChild(docLink);\n",
              "        }\n",
              "      </script>\n",
              "    </div>\n",
              "  </div>\n",
              "  "
            ]
          },
          "metadata": {},
          "execution_count": 8
        }
      ]
    },
    {
      "cell_type": "code",
      "source": [
        "x = origin_data.index.values\n",
        "cols = ['초장', '착과수', '최종화방차수']\n",
        "\n",
        "for col in cols:\n",
        "    plt.figure(figsize=(20, 5))\n",
        "    plt.title(col)\n",
        "    plt.plot(x, origin_data[col])\n",
        "    plt.gca().axes.xaxis.set_visible(False)\n",
        "    plt.show()"
      ],
      "metadata": {
        "colab": {
          "base_uri": "https://localhost:8080/",
          "height": 518
        },
        "id": "Da5PHpysvsqD",
        "outputId": "af99efdf-769f-46d4-b82f-24358de55ce7"
      },
      "execution_count": null,
      "outputs": [
        {
          "output_type": "display_data",
          "data": {
            "text/plain": [
              "<Figure size 1440x360 with 1 Axes>"
            ],
            "image/png": "[encoded data removed]"
          },
          "metadata": {
            "needs_background": "light"
          }
        },
        {
          "output_type": "display_data",
          "data": {
            "text/plain": [
              "<Figure size 1440x360 with 1 Axes>"
            ],
            "image/png": "[encoded data removed]"
          },
          "metadata": {
            "needs_background": "light"
          }
        },
        {
          "output_type": "display_data",
          "data": {
            "text/plain": [
              "<Figure size 1440x360 with 1 Axes>"
            ],
            "image/png": "[encoded data removed]"
          },
          "metadata": {
            "needs_background": "light"
          }
        }
      ]
    },
    {
      "cell_type": "markdown",
      "source": [
        "### Score 저장할 DF 생성"
      ],
      "metadata": {
        "id": "VzsnqXmE1CRd"
      }
    },
    {
      "cell_type": "code",
      "source": [
        "models = ['KNN', 'Decision Tree', 'Random Forest', 'Naive Bayse', 'SVM']\n",
        "modelLength = len(models)"
      ],
      "metadata": {
        "id": "a0mbc9l4o2vB"
      },
      "execution_count": null,
      "outputs": []
    },
    {
      "cell_type": "code",
      "source": [
        "yield_predict = pd.DataFrame({'model':['KNN', 'Decision Tree', 'Random Forest', 'Naive Bayse', 'SVM'],\n",
        "                           'CV_mean':[0 for i in range(modelLength)],\n",
        "                           'best param':[0 for i in range(modelLength)],\n",
        "                           'predict':[0 for i in range(modelLength)],\n",
        "                           'recommended':[0 for i in range(modelLength)]})\n",
        "yield_predict"
      ],
      "metadata": {
        "id": "0KIvSleolhNY",
        "colab": {
          "base_uri": "https://localhost:8080/",
          "height": 206
        },
        "outputId": "eab57508-68c5-4cd0-dd2e-71f98b4edd6f"
      },
      "execution_count": null,
      "outputs": [
        {
          "output_type": "execute_result",
          "data": {
            "text/plain": [
              "           model  CV_mean  best param  predict  recommended\n",
              "0            KNN        0           0        0            0\n",
              "1  Decision Tree        0           0        0            0\n",
              "2  Random Forest        0           0        0            0\n",
              "3    Naive Bayse        0           0        0            0\n",
              "4            SVM        0           0        0            0"
            ],
            "text/html": [
              "\n",
              "  <div id=\"df-a954df73-ed5e-47e5-ba6d-ffef04f44e53\">\n",
              "    <div class=\"colab-df-container\">\n",
              "      <div>\n",
              "<style scoped>\n",
              "    .dataframe tbody tr th:only-of-type {\n",
              "        vertical-align: middle;\n",
              "    }\n",
              "\n",
              "    .dataframe tbody tr th {\n",
              "        vertical-align: top;\n",
              "    }\n",
              "\n",
              "    .dataframe thead th {\n",
              "        text-align: right;\n",
              "    }\n",
              "</style>\n",
              "<table border=\"1\" class=\"dataframe\">\n",
              "  <thead>\n",
              "    <tr style=\"text-align: right;\">\n",
              "      <th></th>\n",
              "      <th>model</th>\n",
              "      <th>CV_mean</th>\n",
              "      <th>best param</th>\n",
              "      <th>predict</th>\n",
              "      <th>recommended</th>\n",
              "    </tr>\n",
              "  </thead>\n",
              "  <tbody>\n",
              "    <tr>\n",
              "      <th>0</th>\n",
              "      <td>KNN</td>\n",
              "      <td>0</td>\n",
              "      <td>0</td>\n",
              "      <td>0</td>\n",
              "      <td>0</td>\n",
              "    </tr>\n",
              "    <tr>\n",
              "      <th>1</th>\n",
              "      <td>Decision Tree</td>\n",
              "      <td>0</td>\n",
              "      <td>0</td>\n",
              "      <td>0</td>\n",
              "      <td>0</td>\n",
              "    </tr>\n",
              "    <tr>\n",
              "      <th>2</th>\n",
              "      <td>Random Forest</td>\n",
              "      <td>0</td>\n",
              "      <td>0</td>\n",
              "      <td>0</td>\n",
              "      <td>0</td>\n",
              "    </tr>\n",
              "    <tr>\n",
              "      <th>3</th>\n",
              "      <td>Naive Bayse</td>\n",
              "      <td>0</td>\n",
              "      <td>0</td>\n",
              "      <td>0</td>\n",
              "      <td>0</td>\n",
              "    </tr>\n",
              "    <tr>\n",
              "      <th>4</th>\n",
              "      <td>SVM</td>\n",
              "      <td>0</td>\n",
              "      <td>0</td>\n",
              "      <td>0</td>\n",
              "      <td>0</td>\n",
              "    </tr>\n",
              "  </tbody>\n",
              "</table>\n",
              "</div>\n",
              "      <button class=\"colab-df-convert\" onclick=\"convertToInteractive('df-a954df73-ed5e-47e5-ba6d-ffef04f44e53')\"\n",
              "              title=\"Convert this dataframe to an interactive table.\"\n",
              "              style=\"display:none;\">\n",
              "        \n",
              "  <svg xmlns=\"http://www.w3.org/2000/svg\" height=\"24px\"viewBox=\"0 0 24 24\"\n",
              "       width=\"24px\">\n",
              "    <path d=\"M0 0h24v24H0V0z\" fill=\"none\"/>\n",
              "    <path d=\"M18.56 5.44l.94 2.06.94-2.06 2.06-.94-2.06-.94-.94-2.06-.94 2.06-2.06.94zm-11 1L8.5 8.5l.94-2.06 2.06-.94-2.06-.94L8.5 2.5l-.94 2.06-2.06.94zm10 10l.94 2.06.94-2.06 2.06-.94-2.06-.94-.94-2.06-.94 2.06-2.06.94z\"/><path d=\"M17.41 7.96l-1.37-1.37c-.4-.4-.92-.59-1.43-.59-.52 0-1.04.2-1.43.59L10.3 9.45l-7.72 7.72c-.78.78-.78 2.05 0 2.83L4 21.41c.39.39.9.59 1.41.59.51 0 1.02-.2 1.41-.59l7.78-7.78 2.81-2.81c.8-.78.8-2.07 0-2.86zM5.41 20L4 18.59l7.72-7.72 1.47 1.35L5.41 20z\"/>\n",
              "  </svg>\n",
              "      </button>\n",
              "      \n",
              "  <style>\n",
              "    .colab-df-container {\n",
              "      display:flex;\n",
              "      flex-wrap:wrap;\n",
              "      gap: 12px;\n",
              "    }\n",
              "\n",
              "    .colab-df-convert {\n",
              "      background-color: #E8F0FE;\n",
              "      border: none;\n",
              "      border-radius: 50%;\n",
              "      cursor: pointer;\n",
              "      display: none;\n",
              "      fill: #1967D2;\n",
              "      height: 32px;\n",
              "      padding: 0 0 0 0;\n",
              "      width: 32px;\n",
              "    }\n",
              "\n",
              "    .colab-df-convert:hover {\n",
              "      background-color: #E2EBFA;\n",
              "      box-shadow: 0px 1px 2px rgba(60, 64, 67, 0.3), 0px 1px 3px 1px rgba(60, 64, 67, 0.15);\n",
              "      fill: #174EA6;\n",
              "    }\n",
              "\n",
              "    [theme=dark] .colab-df-convert {\n",
              "      background-color: #3B4455;\n",
              "      fill: #D2E3FC;\n",
              "    }\n",
              "\n",
              "    [theme=dark] .colab-df-convert:hover {\n",
              "      background-color: #434B5C;\n",
              "      box-shadow: 0px 1px 3px 1px rgba(0, 0, 0, 0.15);\n",
              "      filter: drop-shadow(0px 1px 2px rgba(0, 0, 0, 0.3));\n",
              "      fill: #FFFFFF;\n",
              "    }\n",
              "  </style>\n",
              "\n",
              "      <script>\n",
              "        const buttonEl =\n",
              "          document.querySelector('#df-a954df73-ed5e-47e5-ba6d-ffef04f44e53 button.colab-df-convert');\n",
              "        buttonEl.style.display =\n",
              "          google.colab.kernel.accessAllowed ? 'block' : 'none';\n",
              "\n",
              "        async function convertToInteractive(key) {\n",
              "          const element = document.querySelector('#df-a954df73-ed5e-47e5-ba6d-ffef04f44e53');\n",
              "          const dataTable =\n",
              "            await google.colab.kernel.invokeFunction('convertToInteractive',\n",
              "                                                     [key], {});\n",
              "          if (!dataTable) return;\n",
              "\n",
              "          const docLinkHtml = 'Like what you see? Visit the ' +\n",
              "            '<a target=\"_blank\" href=https://colab.research.google.com/notebooks/data_table.ipynb>data table notebook</a>'\n",
              "            + ' to learn more about interactive tables.';\n",
              "          element.innerHTML = '';\n",
              "          dataTable['output_type'] = 'display_data';\n",
              "          await google.colab.output.renderOutput(dataTable, element);\n",
              "          const docLink = document.createElement('div');\n",
              "          docLink.innerHTML = docLinkHtml;\n",
              "          element.appendChild(docLink);\n",
              "        }\n",
              "      </script>\n",
              "    </div>\n",
              "  </div>\n",
              "  "
            ]
          },
          "metadata": {},
          "execution_count": 11
        }
      ]
    },
    {
      "cell_type": "code",
      "source": [
        "y = origin_data['착과수']\n",
        "x = origin_data.drop(['착과수'], axis=1)\n",
        "x_train, x_valid, y_train, y_valid = train_test_split(x, y, random_state=30, test_size=0.1)"
      ],
      "metadata": {
        "id": "dgtxVMPbOghp"
      },
      "execution_count": null,
      "outputs": []
    },
    {
      "cell_type": "code",
      "source": [
        "x.loc[0]"
      ],
      "metadata": {
        "colab": {
          "base_uri": "https://localhost:8080/"
        },
        "id": "fishNNhXuUDE",
        "outputId": "b4b69d1b-231e-409f-d5b5-77b3929a7ebd"
      },
      "execution_count": null,
      "outputs": [
        {
          "output_type": "execute_result",
          "data": {
            "text/plain": [
              "초장            32.0\n",
              "엽장             7.0\n",
              "엽폭             6.0\n",
              "엽병장           21.0\n",
              "엽수             9.0\n",
              "관부직경          20.0\n",
              "화방 꽃수(소화수)     1.0\n",
              "최종화방차수         2.0\n",
              "Name: 0, dtype: float64"
            ]
          },
          "metadata": {},
          "execution_count": 13
        }
      ]
    },
    {
      "cell_type": "markdown",
      "source": [
        "### KNN"
      ],
      "metadata": {
        "id": "pixcRNr7N36W"
      }
    },
    {
      "cell_type": "code",
      "source": [
        "max_score = 0\n",
        "max_k = 0\n",
        "for k in range(1, 11):\n",
        "    knn = KNeighborsClassifier(n_neighbors=k, n_jobs=-1)\n",
        "    knn.fit(x_train, y_train)\n",
        "    score = knn.score(x_valid, y_valid)\n",
        "    if max_score < score :\n",
        "        max_score = score\n",
        "        max_k = k\n",
        "    print('k: %d, accuracy: %.2f' % (k, score*100))\n",
        "\n",
        "print('best case')\n",
        "print('k: %d, accuracy: %.2f' % (max_k, max_score*100))"
      ],
      "metadata": {
        "colab": {
          "base_uri": "https://localhost:8080/"
        },
        "id": "CuZAmLhPOdfX",
        "outputId": "a900672b-dcfb-4cab-d5fa-311bc4d8f002"
      },
      "execution_count": null,
      "outputs": [
        {
          "output_type": "stream",
          "name": "stdout",
          "text": [
            "k: 1, accuracy: 100.00\n",
            "k: 2, accuracy: 100.00\n",
            "k: 3, accuracy: 100.00\n",
            "k: 4, accuracy: 100.00\n",
            "k: 5, accuracy: 100.00\n",
            "k: 6, accuracy: 100.00\n",
            "k: 7, accuracy: 100.00\n",
            "k: 8, accuracy: 100.00\n",
            "k: 9, accuracy: 100.00\n",
            "k: 10, accuracy: 100.00\n",
            "best case\n",
            "k: 1, accuracy: 100.00\n"
          ]
        }
      ]
    },
    {
      "cell_type": "code",
      "source": [
        "knn = KNeighborsClassifier(n_neighbors=max_k, n_jobs=-1)\n",
        "knn.fit(x_train, y_train)\n",
        "max_score = knn.score(x_valid, y_valid)\n",
        "predict_value = knn.predict(x.iloc[-1].to_numpy().reshape(1, -1))[0]\n",
        "\n",
        "yield_predict['CV_mean'][yield_predict['model'] == 'KNN'] = max_score\n",
        "yield_predict['best param'][yield_predict['model'] == 'KNN'] = max_k\n",
        "yield_predict['predict'][yield_predict['model'] == 'KNN'] = predict_value"
      ],
      "metadata": {
        "id": "3CkNZrNUuzvZ"
      },
      "execution_count": null,
      "outputs": []
    },
    {
      "cell_type": "markdown",
      "source": [
        "### Decision Tree"
      ],
      "metadata": {
        "id": "zhSc2RZiisqk"
      }
    },
    {
      "cell_type": "code",
      "source": [
        "model = tree.DecisionTreeClassifier(criterion='entropy', max_depth=3, random_state=0)\n",
        "model.fit(x_train, y_train)\n",
        "\n",
        "y_pred_tr = model.predict(x_valid)\n",
        "print('Accuracy: %.2f' % accuracy_score(y_valid, y_pred_tr))\n",
        "accuracy = accuracy_score(y_valid, y_pred_tr)\n",
        "predict_value = model.predict(x.iloc[-1].to_numpy().reshape(1, -1))[0]\n",
        "\n",
        "yield_predict['CV_mean'][yield_predict['model'] == 'Decision Tree'] = accuracy\n",
        "yield_predict['predict'][yield_predict['model'] == 'Decision Tree'] = predict_value"
      ],
      "metadata": {
        "colab": {
          "base_uri": "https://localhost:8080/"
        },
        "outputId": "a21f9c03-d07a-4321-86a4-520b88610789",
        "id": "GqQofNnQisql"
      },
      "execution_count": null,
      "outputs": [
        {
          "output_type": "stream",
          "name": "stdout",
          "text": [
            "Accuracy: 0.82\n"
          ]
        }
      ]
    },
    {
      "cell_type": "markdown",
      "source": [
        "### Random Forest"
      ],
      "metadata": {
        "id": "bdXfVCncityC"
      }
    },
    {
      "cell_type": "markdown",
      "source": [
        "estimators 숫자 바꾸면서 7이 아닌 다른 최적의 경우 찾기"
      ],
      "metadata": {
        "id": "aRW06MJ3zJOt"
      }
    },
    {
      "cell_type": "code",
      "source": [
        "model = RandomForestClassifier(n_estimators=7, random_state=0, oob_score=True)\n",
        "model.fit(x_train, y_train)\n",
        "\n",
        "train_accuracy = model.score(x_train, y_train)\n",
        "test_accuracy = model.score(x_valid, y_valid)\n",
        "oob_accuracy = model.oob_score_\n",
        "\n",
        "caseList = ['test', 'oob']\n",
        "accuracy = [test_accuracy, oob_accuracy]\n",
        "best_acc = 0\n",
        "best_case = ''\n",
        "\n",
        "for i in range(2):\n",
        "    if best_acc < accuracy[i]:\n",
        "        best_acc = accuracy[i]\n",
        "        best_case = caseList[i]\n",
        "\n",
        "\n",
        "print('Case : train, Accuracy: %.2f' % train_accuracy)\n",
        "print('Case : test, Accuracy: %.2f' % test_accuracy)\n",
        "print('Case : oob, Accuracy: %.2f' % oob_accuracy)\n",
        "predict_value = model.predict(x.iloc[-1].to_numpy().reshape(1, -1))[0]\n",
        "\n",
        "yield_predict['CV_mean'][yield_predict['model'] == 'Random Forest'] = best_acc\n",
        "yield_predict['best param'][yield_predict['model'] == 'Random Forest'] = best_case\n",
        "yield_predict['predict'][yield_predict['model'] == 'Random Forest'] = predict_value"
      ],
      "metadata": {
        "colab": {
          "base_uri": "https://localhost:8080/"
        },
        "outputId": "f721316c-ceba-429f-f82e-c5a7b4b5008c",
        "id": "wuOR32tMityC"
      },
      "execution_count": null,
      "outputs": [
        {
          "output_type": "stream",
          "name": "stdout",
          "text": [
            "Case : train, Accuracy: 1.00\n",
            "Case : test, Accuracy: 1.00\n",
            "Case : oob, Accuracy: 0.97\n"
          ]
        }
      ]
    },
    {
      "cell_type": "markdown",
      "source": [
        "### Naive Bayse"
      ],
      "metadata": {
        "id": "fRAysJqwit_t"
      }
    },
    {
      "cell_type": "code",
      "source": [
        "model = GaussianNB()\n",
        "model.fit(x_train, y_train)\n",
        "\n",
        "accuracy = model.score(x_valid, y_valid)\n",
        "print (\"Accuracy: \", accuracy)\n",
        "predict_value = model.predict(x.iloc[-1].to_numpy().reshape(1, -1))[0]\n",
        "\n",
        "yield_predict['CV_mean'][yield_predict['model'] == 'Naive Bayse'] = accuracy\n",
        "yield_predict['predict'][yield_predict['model'] == 'Naive Bayse'] = predict_value"
      ],
      "metadata": {
        "colab": {
          "base_uri": "https://localhost:8080/"
        },
        "outputId": "5219a119-6d2a-4055-f3a5-0a9071ee878f",
        "id": "2f_x-OZ4it_u"
      },
      "execution_count": null,
      "outputs": [
        {
          "output_type": "stream",
          "name": "stdout",
          "text": [
            "Accuracy:  0.7954545454545454\n"
          ]
        }
      ]
    },
    {
      "cell_type": "markdown",
      "source": [
        "### SVM"
      ],
      "metadata": {
        "id": "FFMpd9zNiuih"
      }
    },
    {
      "cell_type": "code",
      "source": [
        "find_grid = SVC(kernel = 'rbf',random_state=100)\n",
        "parameters = {'C': [0.001, 0.01, 0.1, 1, 10, 25, 50, 100],\n",
        "             'gamma':[0.001, 0.01, 0.1, 1, 10, 25, 50, 100]}\n",
        "\n",
        "grid_svm = GridSearchCV(find_grid,\n",
        "                      param_grid = parameters, cv = 5)\n",
        "\n",
        "grid_svm.fit(x_train, y_train)\n",
        "predict_value = model.predict(x.iloc[-1].to_numpy().reshape(1, -1))[0]\n",
        "\n",
        "result = pd.DataFrame(grid_svm.cv_results_['params'])\n",
        "result['mean_test_score'] = grid_svm.cv_results_['mean_test_score']\n",
        "svm_result = result.sort_values(by='mean_test_score', ascending=False)\n",
        "svm_result"
      ],
      "metadata": {
        "colab": {
          "base_uri": "https://localhost:8080/",
          "height": 424
        },
        "outputId": "937e23cd-a90c-42f3-a505-d746cf4e64b2",
        "id": "zQwOcCKKiuih"
      },
      "execution_count": null,
      "outputs": [
        {
          "output_type": "execute_result",
          "data": {
            "text/plain": [
              "          C    gamma  mean_test_score\n",
              "63  100.000  100.000         1.000000\n",
              "44   25.000   10.000         1.000000\n",
              "46   25.000   50.000         1.000000\n",
              "45   25.000   25.000         1.000000\n",
              "26    1.000    0.100         1.000000\n",
              "..      ...      ...              ...\n",
              "12    0.010   10.000         0.280919\n",
              "13    0.010   25.000         0.280919\n",
              "14    0.010   50.000         0.280919\n",
              "15    0.010  100.000         0.280919\n",
              "0     0.001    0.001         0.280919\n",
              "\n",
              "[64 rows x 3 columns]"
            ],
            "text/html": [
              "\n",
              "  <div id=\"df-4e547da5-157a-4a64-bd4b-81592eab9a28\">\n",
              "    <div class=\"colab-df-container\">\n",
              "      <div>\n",
              "<style scoped>\n",
              "    .dataframe tbody tr th:only-of-type {\n",
              "        vertical-align: middle;\n",
              "    }\n",
              "\n",
              "    .dataframe tbody tr th {\n",
              "        vertical-align: top;\n",
              "    }\n",
              "\n",
              "    .dataframe thead th {\n",
              "        text-align: right;\n",
              "    }\n",
              "</style>\n",
              "<table border=\"1\" class=\"dataframe\">\n",
              "  <thead>\n",
              "    <tr style=\"text-align: right;\">\n",
              "      <th></th>\n",
              "      <th>C</th>\n",
              "      <th>gamma</th>\n",
              "      <th>mean_test_score</th>\n",
              "    </tr>\n",
              "  </thead>\n",
              "  <tbody>\n",
              "    <tr>\n",
              "      <th>63</th>\n",
              "      <td>100.000</td>\n",
              "      <td>100.000</td>\n",
              "      <td>1.000000</td>\n",
              "    </tr>\n",
              "    <tr>\n",
              "      <th>44</th>\n",
              "      <td>25.000</td>\n",
              "      <td>10.000</td>\n",
              "      <td>1.000000</td>\n",
              "    </tr>\n",
              "    <tr>\n",
              "      <th>46</th>\n",
              "      <td>25.000</td>\n",
              "      <td>50.000</td>\n",
              "      <td>1.000000</td>\n",
              "    </tr>\n",
              "    <tr>\n",
              "      <th>45</th>\n",
              "      <td>25.000</td>\n",
              "      <td>25.000</td>\n",
              "      <td>1.000000</td>\n",
              "    </tr>\n",
              "    <tr>\n",
              "      <th>26</th>\n",
              "      <td>1.000</td>\n",
              "      <td>0.100</td>\n",
              "      <td>1.000000</td>\n",
              "    </tr>\n",
              "    <tr>\n",
              "      <th>...</th>\n",
              "      <td>...</td>\n",
              "      <td>...</td>\n",
              "      <td>...</td>\n",
              "    </tr>\n",
              "    <tr>\n",
              "      <th>12</th>\n",
              "      <td>0.010</td>\n",
              "      <td>10.000</td>\n",
              "      <td>0.280919</td>\n",
              "    </tr>\n",
              "    <tr>\n",
              "      <th>13</th>\n",
              "      <td>0.010</td>\n",
              "      <td>25.000</td>\n",
              "      <td>0.280919</td>\n",
              "    </tr>\n",
              "    <tr>\n",
              "      <th>14</th>\n",
              "      <td>0.010</td>\n",
              "      <td>50.000</td>\n",
              "      <td>0.280919</td>\n",
              "    </tr>\n",
              "    <tr>\n",
              "      <th>15</th>\n",
              "      <td>0.010</td>\n",
              "      <td>100.000</td>\n",
              "      <td>0.280919</td>\n",
              "    </tr>\n",
              "    <tr>\n",
              "      <th>0</th>\n",
              "      <td>0.001</td>\n",
              "      <td>0.001</td>\n",
              "      <td>0.280919</td>\n",
              "    </tr>\n",
              "  </tbody>\n",
              "</table>\n",
              "<p>64 rows × 3 columns</p>\n",
              "</div>\n",
              "      <button class=\"colab-df-convert\" onclick=\"convertToInteractive('df-4e547da5-157a-4a64-bd4b-81592eab9a28')\"\n",
              "              title=\"Convert this dataframe to an interactive table.\"\n",
              "              style=\"display:none;\">\n",
              "        \n",
              "  <svg xmlns=\"http://www.w3.org/2000/svg\" height=\"24px\"viewBox=\"0 0 24 24\"\n",
              "       width=\"24px\">\n",
              "    <path d=\"M0 0h24v24H0V0z\" fill=\"none\"/>\n",
              "    <path d=\"M18.56 5.44l.94 2.06.94-2.06 2.06-.94-2.06-.94-.94-2.06-.94 2.06-2.06.94zm-11 1L8.5 8.5l.94-2.06 2.06-.94-2.06-.94L8.5 2.5l-.94 2.06-2.06.94zm10 10l.94 2.06.94-2.06 2.06-.94-2.06-.94-.94-2.06-.94 2.06-2.06.94z\"/><path d=\"M17.41 7.96l-1.37-1.37c-.4-.4-.92-.59-1.43-.59-.52 0-1.04.2-1.43.59L10.3 9.45l-7.72 7.72c-.78.78-.78 2.05 0 2.83L4 21.41c.39.39.9.59 1.41.59.51 0 1.02-.2 1.41-.59l7.78-7.78 2.81-2.81c.8-.78.8-2.07 0-2.86zM5.41 20L4 18.59l7.72-7.72 1.47 1.35L5.41 20z\"/>\n",
              "  </svg>\n",
              "      </button>\n",
              "      \n",
              "  <style>\n",
              "    .colab-df-container {\n",
              "      display:flex;\n",
              "      flex-wrap:wrap;\n",
              "      gap: 12px;\n",
              "    }\n",
              "\n",
              "    .colab-df-convert {\n",
              "      background-color: #E8F0FE;\n",
              "      border: none;\n",
              "      border-radius: 50%;\n",
              "      cursor: pointer;\n",
              "      display: none;\n",
              "      fill: #1967D2;\n",
              "      height: 32px;\n",
              "      padding: 0 0 0 0;\n",
              "      width: 32px;\n",
              "    }\n",
              "\n",
              "    .colab-df-convert:hover {\n",
              "      background-color: #E2EBFA;\n",
              "      box-shadow: 0px 1px 2px rgba(60, 64, 67, 0.3), 0px 1px 3px 1px rgba(60, 64, 67, 0.15);\n",
              "      fill: #174EA6;\n",
              "    }\n",
              "\n",
              "    [theme=dark] .colab-df-convert {\n",
              "      background-color: #3B4455;\n",
              "      fill: #D2E3FC;\n",
              "    }\n",
              "\n",
              "    [theme=dark] .colab-df-convert:hover {\n",
              "      background-color: #434B5C;\n",
              "      box-shadow: 0px 1px 3px 1px rgba(0, 0, 0, 0.15);\n",
              "      filter: drop-shadow(0px 1px 2px rgba(0, 0, 0, 0.3));\n",
              "      fill: #FFFFFF;\n",
              "    }\n",
              "  </style>\n",
              "\n",
              "      <script>\n",
              "        const buttonEl =\n",
              "          document.querySelector('#df-4e547da5-157a-4a64-bd4b-81592eab9a28 button.colab-df-convert');\n",
              "        buttonEl.style.display =\n",
              "          google.colab.kernel.accessAllowed ? 'block' : 'none';\n",
              "\n",
              "        async function convertToInteractive(key) {\n",
              "          const element = document.querySelector('#df-4e547da5-157a-4a64-bd4b-81592eab9a28');\n",
              "          const dataTable =\n",
              "            await google.colab.kernel.invokeFunction('convertToInteractive',\n",
              "                                                     [key], {});\n",
              "          if (!dataTable) return;\n",
              "\n",
              "          const docLinkHtml = 'Like what you see? Visit the ' +\n",
              "            '<a target=\"_blank\" href=https://colab.research.google.com/notebooks/data_table.ipynb>data table notebook</a>'\n",
              "            + ' to learn more about interactive tables.';\n",
              "          element.innerHTML = '';\n",
              "          dataTable['output_type'] = 'display_data';\n",
              "          await google.colab.output.renderOutput(dataTable, element);\n",
              "          const docLink = document.createElement('div');\n",
              "          docLink.innerHTML = docLinkHtml;\n",
              "          element.appendChild(docLink);\n",
              "        }\n",
              "      </script>\n",
              "    </div>\n",
              "  </div>\n",
              "  "
            ]
          },
          "metadata": {},
          "execution_count": 19
        }
      ]
    },
    {
      "cell_type": "code",
      "source": [
        "svm_best_params = '{C:' + str(svm_result.iloc[0,0]) + '}, {gamma:'+ str(svm_result.iloc[0,1]) +'}'\n",
        "yield_predict['CV_mean'][yield_predict['model'] == 'SVM'] = svm_result.iloc[0,2]\n",
        "yield_predict['best param'][yield_predict['model'] == 'SVM'] = svm_best_params\n",
        "yield_predict['predict'][yield_predict['model'] == 'SVM'] = predict_value"
      ],
      "metadata": {
        "id": "eOw9p_F78azp"
      },
      "execution_count": null,
      "outputs": []
    },
    {
      "cell_type": "markdown",
      "source": [
        "### Recommend Model"
      ],
      "metadata": {
        "id": "tje6TXlTrwFq"
      }
    },
    {
      "cell_type": "code",
      "source": [
        "models = ['KNN', 'Decision Tree', 'Random Forest', 'Naive Bayse', 'SVM']\n",
        "modelLength = len(models)"
      ],
      "metadata": {
        "id": "CvvihJmJcnTz"
      },
      "execution_count": null,
      "outputs": []
    },
    {
      "cell_type": "code",
      "source": [
        "best_model = ''\n",
        "max_acc = 0\n",
        "\n",
        "for model in models:\n",
        "    acc = yield_predict['CV_mean'][yield_predict['model'] == model].values[0]\n",
        "    if acc > max_acc:\n",
        "        max_acc = acc\n",
        "        best_model = model\n",
        "\n",
        "print('best_model : ', best_model, '\\nmax_acc : ', max_acc)\n",
        "yield_predict['recommended'][yield_predict['model'] == best_model] = 1.0"
      ],
      "metadata": {
        "colab": {
          "base_uri": "https://localhost:8080/"
        },
        "id": "u5fy97-G0ZXH",
        "outputId": "c683997c-851f-40bf-8e1b-14fb60aeec54"
      },
      "execution_count": null,
      "outputs": [
        {
          "output_type": "stream",
          "name": "stdout",
          "text": [
            "best_model :  KNN \n",
            "max_acc :  1.0\n"
          ]
        }
      ]
    },
    {
      "cell_type": "markdown",
      "source": [
        "### Results"
      ],
      "metadata": {
        "id": "RWpUmynK7fwT"
      }
    },
    {
      "cell_type": "code",
      "source": [
        "yield_predict"
      ],
      "metadata": {
        "id": "s3OiN6T19kc8",
        "colab": {
          "base_uri": "https://localhost:8080/",
          "height": 206
        },
        "outputId": "5a48a63e-f056-41b3-8683-fef121676ab0"
      },
      "execution_count": null,
      "outputs": [
        {
          "output_type": "execute_result",
          "data": {
            "text/plain": [
              "           model   CV_mean                best param  predict  recommended\n",
              "0            KNN  1.000000                         1        4            1\n",
              "1  Decision Tree  0.818182                         0        4            0\n",
              "2  Random Forest  1.000000                      test        4            0\n",
              "3    Naive Bayse  0.795455                         0        4            0\n",
              "4            SVM  1.000000  {C:100.0}, {gamma:100.0}        4            0"
            ],
            "text/html": [
              "\n",
              "  <div id=\"df-f471cb5a-548f-4b9c-b4ad-7c21ae5e64f3\">\n",
              "    <div class=\"colab-df-container\">\n",
              "      <div>\n",
              "<style scoped>\n",
              "    .dataframe tbody tr th:only-of-type {\n",
              "        vertical-align: middle;\n",
              "    }\n",
              "\n",
              "    .dataframe tbody tr th {\n",
              "        vertical-align: top;\n",
              "    }\n",
              "\n",
              "    .dataframe thead th {\n",
              "        text-align: right;\n",
              "    }\n",
              "</style>\n",
              "<table border=\"1\" class=\"dataframe\">\n",
              "  <thead>\n",
              "    <tr style=\"text-align: right;\">\n",
              "      <th></th>\n",
              "      <th>model</th>\n",
              "      <th>CV_mean</th>\n",
              "      <th>best param</th>\n",
              "      <th>predict</th>\n",
              "      <th>recommended</th>\n",
              "    </tr>\n",
              "  </thead>\n",
              "  <tbody>\n",
              "    <tr>\n",
              "      <th>0</th>\n",
              "      <td>KNN</td>\n",
              "      <td>1.000000</td>\n",
              "      <td>1</td>\n",
              "      <td>4</td>\n",
              "      <td>1</td>\n",
              "    </tr>\n",
              "    <tr>\n",
              "      <th>1</th>\n",
              "      <td>Decision Tree</td>\n",
              "      <td>0.818182</td>\n",
              "      <td>0</td>\n",
              "      <td>4</td>\n",
              "      <td>0</td>\n",
              "    </tr>\n",
              "    <tr>\n",
              "      <th>2</th>\n",
              "      <td>Random Forest</td>\n",
              "      <td>1.000000</td>\n",
              "      <td>test</td>\n",
              "      <td>4</td>\n",
              "      <td>0</td>\n",
              "    </tr>\n",
              "    <tr>\n",
              "      <th>3</th>\n",
              "      <td>Naive Bayse</td>\n",
              "      <td>0.795455</td>\n",
              "      <td>0</td>\n",
              "      <td>4</td>\n",
              "      <td>0</td>\n",
              "    </tr>\n",
              "    <tr>\n",
              "      <th>4</th>\n",
              "      <td>SVM</td>\n",
              "      <td>1.000000</td>\n",
              "      <td>{C:100.0}, {gamma:100.0}</td>\n",
              "      <td>4</td>\n",
              "      <td>0</td>\n",
              "    </tr>\n",
              "  </tbody>\n",
              "</table>\n",
              "</div>\n",
              "      <button class=\"colab-df-convert\" onclick=\"convertToInteractive('df-f471cb5a-548f-4b9c-b4ad-7c21ae5e64f3')\"\n",
              "              title=\"Convert this dataframe to an interactive table.\"\n",
              "              style=\"display:none;\">\n",
              "        \n",
              "  <svg xmlns=\"http://www.w3.org/2000/svg\" height=\"24px\"viewBox=\"0 0 24 24\"\n",
              "       width=\"24px\">\n",
              "    <path d=\"M0 0h24v24H0V0z\" fill=\"none\"/>\n",
              "    <path d=\"M18.56 5.44l.94 2.06.94-2.06 2.06-.94-2.06-.94-.94-2.06-.94 2.06-2.06.94zm-11 1L8.5 8.5l.94-2.06 2.06-.94-2.06-.94L8.5 2.5l-.94 2.06-2.06.94zm10 10l.94 2.06.94-2.06 2.06-.94-2.06-.94-.94-2.06-.94 2.06-2.06.94z\"/><path d=\"M17.41 7.96l-1.37-1.37c-.4-.4-.92-.59-1.43-.59-.52 0-1.04.2-1.43.59L10.3 9.45l-7.72 7.72c-.78.78-.78 2.05 0 2.83L4 21.41c.39.39.9.59 1.41.59.51 0 1.02-.2 1.41-.59l7.78-7.78 2.81-2.81c.8-.78.8-2.07 0-2.86zM5.41 20L4 18.59l7.72-7.72 1.47 1.35L5.41 20z\"/>\n",
              "  </svg>\n",
              "      </button>\n",
              "      \n",
              "  <style>\n",
              "    .colab-df-container {\n",
              "      display:flex;\n",
              "      flex-wrap:wrap;\n",
              "      gap: 12px;\n",
              "    }\n",
              "\n",
              "    .colab-df-convert {\n",
              "      background-color: #E8F0FE;\n",
              "      border: none;\n",
              "      border-radius: 50%;\n",
              "      cursor: pointer;\n",
              "      display: none;\n",
              "      fill: #1967D2;\n",
              "      height: 32px;\n",
              "      padding: 0 0 0 0;\n",
              "      width: 32px;\n",
              "    }\n",
              "\n",
              "    .colab-df-convert:hover {\n",
              "      background-color: #E2EBFA;\n",
              "      box-shadow: 0px 1px 2px rgba(60, 64, 67, 0.3), 0px 1px 3px 1px rgba(60, 64, 67, 0.15);\n",
              "      fill: #174EA6;\n",
              "    }\n",
              "\n",
              "    [theme=dark] .colab-df-convert {\n",
              "      background-color: #3B4455;\n",
              "      fill: #D2E3FC;\n",
              "    }\n",
              "\n",
              "    [theme=dark] .colab-df-convert:hover {\n",
              "      background-color: #434B5C;\n",
              "      box-shadow: 0px 1px 3px 1px rgba(0, 0, 0, 0.15);\n",
              "      filter: drop-shadow(0px 1px 2px rgba(0, 0, 0, 0.3));\n",
              "      fill: #FFFFFF;\n",
              "    }\n",
              "  </style>\n",
              "\n",
              "      <script>\n",
              "        const buttonEl =\n",
              "          document.querySelector('#df-f471cb5a-548f-4b9c-b4ad-7c21ae5e64f3 button.colab-df-convert');\n",
              "        buttonEl.style.display =\n",
              "          google.colab.kernel.accessAllowed ? 'block' : 'none';\n",
              "\n",
              "        async function convertToInteractive(key) {\n",
              "          const element = document.querySelector('#df-f471cb5a-548f-4b9c-b4ad-7c21ae5e64f3');\n",
              "          const dataTable =\n",
              "            await google.colab.kernel.invokeFunction('convertToInteractive',\n",
              "                                                     [key], {});\n",
              "          if (!dataTable) return;\n",
              "\n",
              "          const docLinkHtml = 'Like what you see? Visit the ' +\n",
              "            '<a target=\"_blank\" href=https://colab.research.google.com/notebooks/data_table.ipynb>data table notebook</a>'\n",
              "            + ' to learn more about interactive tables.';\n",
              "          element.innerHTML = '';\n",
              "          dataTable['output_type'] = 'display_data';\n",
              "          await google.colab.output.renderOutput(dataTable, element);\n",
              "          const docLink = document.createElement('div');\n",
              "          docLink.innerHTML = docLinkHtml;\n",
              "          element.appendChild(docLink);\n",
              "        }\n",
              "      </script>\n",
              "    </div>\n",
              "  </div>\n",
              "  "
            ]
          },
          "metadata": {},
          "execution_count": 23
        }
      ]
    },
    {
      "cell_type": "code",
      "source": [
        "yield_predict.to_csv(\"yield_predict.csv\", index = False)"
      ],
      "metadata": {
        "id": "5Z4jlSygr9jh"
      },
      "execution_count": null,
      "outputs": []
    },
    {
      "cell_type": "code",
      "source": [],
      "metadata": {
        "id": "5KEEhERp1cGk"
      },
      "execution_count": null,
      "outputs": []
    }
  ]
}